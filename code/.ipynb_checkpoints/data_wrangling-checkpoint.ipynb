{
 "cells": [
  {
   "cell_type": "code",
   "execution_count": 1,
   "metadata": {
    "collapsed": true
   },
   "outputs": [],
   "source": [
    "import pandas as pd"
   ]
  },
  {
   "cell_type": "code",
   "execution_count": 2,
   "metadata": {
    "collapsed": true
   },
   "outputs": [],
   "source": [
    "# load dataset of development & economic indicators\n",
    "econ = pd.read_csv('../data/AQUASTAT/development.csv', names=['country', 'country_id', 'var_name', 'var_id', 'year', 'value'], \n",
    "                  usecols=range(6), header=0, nrows=17709)"
   ]
  },
  {
   "cell_type": "code",
   "execution_count": 3,
   "metadata": {
    "collapsed": true
   },
   "outputs": [],
   "source": [
    "# load dataset of drinking water access\n",
    "access = pd.read_csv('../data/AQUASTAT/drinking_water_access.csv', names=['country', 'country_id', 'var_name', 'var_id', 'year', 'value'], \n",
    "                  usecols=range(6), header=0, nrows=3339)"
   ]
  },
  {
   "cell_type": "code",
   "execution_count": 4,
   "metadata": {
    "collapsed": true
   },
   "outputs": [],
   "source": [
    "# load dataset of exploitable water resources\n",
    "exploit = pd.read_csv('../data/AQUASTAT/exploitable_water_resources.csv', names=['country', 'country_id', 'var_name', 'var_id', 'year', 'value'], \n",
    "                  usecols=range(6), skiprows=3, nrows=4703)"
   ]
  },
  {
   "cell_type": "code",
   "execution_count": 5,
   "metadata": {
    "collapsed": true
   },
   "outputs": [],
   "source": [
    "# load dataset of pressure on water resouces\n",
    "pressure = pd.read_csv('../data/AQUASTAT/pressure.csv', names=['country', 'country_id', 'var_name', 'var_id', 'year', 'value'], \n",
    "                  usecols=range(6), skiprows=3, nrows=1243)"
   ]
  },
  {
   "cell_type": "code",
   "execution_count": 6,
   "metadata": {
    "collapsed": true
   },
   "outputs": [],
   "source": [
    "# load dataset of renewable water resources\n",
    "renew = pd.read_csv('../data/AQUASTAT/renewable_water_resources.csv', names=['country', 'country_id', 'var_name', 'var_id', 'year', 'value'], \n",
    "                  usecols=range(6), skiprows=3, nrows=11813)"
   ]
  },
  {
   "cell_type": "code",
   "execution_count": 7,
   "metadata": {
    "collapsed": true
   },
   "outputs": [],
   "source": [
    "# load dataset of wastewater\n",
    "waste = pd.read_csv('../data/AQUASTAT/wastewater.csv', names=['country', 'country_id', 'var_name', 'var_id', 'year', 'value'], \n",
    "                  usecols=range(6), skiprows=3, nrows=1427)"
   ]
  },
  {
   "cell_type": "code",
   "execution_count": 8,
   "metadata": {
    "collapsed": true
   },
   "outputs": [],
   "source": [
    "# load dataset of water withdrawal by sector\n",
    "withdrawal = pd.read_csv('../data/AQUASTAT/withdrawal.csv', names=['country', 'country_id', 'var_name', 'var_id', 'year', 'value'], \n",
    "                  usecols=range(6), skiprows=3, nrows=6213)"
   ]
  },
  {
   "cell_type": "code",
   "execution_count": 9,
   "metadata": {
    "collapsed": true
   },
   "outputs": [],
   "source": [
    "# load dataset of water in and out flows\n",
    "flows = pd.read_csv('../data/AQUASTAT/in_out_flows.csv', names=['country', 'country_id', 'var_name', 'var_id', 'year', 'value'], \n",
    "                   usecols=range(6), skiprows=3, nrows=728)"
   ]
  },
  {
   "cell_type": "code",
   "execution_count": 10,
   "metadata": {
    "collapsed": true
   },
   "outputs": [],
   "source": [
    "#####\n",
    "# which countries have the largest and smallest renewable water resources? and dependency ratio? renewable water per capita?\n",
    "# year: 2014\n",
    "#####"
   ]
  },
  {
   "cell_type": "code",
   "execution_count": 11,
   "metadata": {
    "collapsed": true
   },
   "outputs": [],
   "source": [
    "# pivot\n",
    "renew = renew.loc[renew.year==2014,].pivot(index='country', columns='var_name', values='value')"
   ]
  },
  {
   "cell_type": "code",
   "execution_count": 12,
   "metadata": {
    "collapsed": true
   },
   "outputs": [],
   "source": [
    "# drop unneeded columns\n",
    "renew = renew.iloc[:,[0,4,5]]"
   ]
  },
  {
   "cell_type": "code",
   "execution_count": 13,
   "metadata": {
    "collapsed": true
   },
   "outputs": [],
   "source": [
    "renew.columns = ['dependency', 'tot_renew', 'renew_pc']"
   ]
  },
  {
   "cell_type": "code",
   "execution_count": 14,
   "metadata": {},
   "outputs": [
    {
     "data": {
      "text/html": [
       "<div>\n",
       "<style>\n",
       "    .dataframe thead tr:only-child th {\n",
       "        text-align: right;\n",
       "    }\n",
       "\n",
       "    .dataframe thead th {\n",
       "        text-align: left;\n",
       "    }\n",
       "\n",
       "    .dataframe tbody tr th {\n",
       "        vertical-align: top;\n",
       "    }\n",
       "</style>\n",
       "<table border=\"1\" class=\"dataframe\">\n",
       "  <thead>\n",
       "    <tr style=\"text-align: right;\">\n",
       "      <th></th>\n",
       "      <th>dependency</th>\n",
       "      <th>tot_renew</th>\n",
       "      <th>renew_pc</th>\n",
       "    </tr>\n",
       "    <tr>\n",
       "      <th>country</th>\n",
       "      <th></th>\n",
       "      <th></th>\n",
       "      <th></th>\n",
       "    </tr>\n",
       "  </thead>\n",
       "  <tbody>\n",
       "    <tr>\n",
       "      <th>Kuwait</th>\n",
       "      <td>100.000</td>\n",
       "      <td>0.0200</td>\n",
       "      <td>5.139</td>\n",
       "    </tr>\n",
       "    <tr>\n",
       "      <th>United Arab Emirates</th>\n",
       "      <td>0.000</td>\n",
       "      <td>0.1500</td>\n",
       "      <td>16.380</td>\n",
       "    </tr>\n",
       "    <tr>\n",
       "      <th>Qatar</th>\n",
       "      <td>3.448</td>\n",
       "      <td>0.0580</td>\n",
       "      <td>25.950</td>\n",
       "    </tr>\n",
       "    <tr>\n",
       "      <th>Saudi Arabia</th>\n",
       "      <td>0.000</td>\n",
       "      <td>2.4000</td>\n",
       "      <td>76.090</td>\n",
       "    </tr>\n",
       "    <tr>\n",
       "      <th>Yemen</th>\n",
       "      <td>0.000</td>\n",
       "      <td>2.1000</td>\n",
       "      <td>78.260</td>\n",
       "    </tr>\n",
       "    <tr>\n",
       "      <th>Maldives</th>\n",
       "      <td>0.000</td>\n",
       "      <td>0.0300</td>\n",
       "      <td>82.490</td>\n",
       "    </tr>\n",
       "    <tr>\n",
       "      <th>Bahrain</th>\n",
       "      <td>96.550</td>\n",
       "      <td>0.1160</td>\n",
       "      <td>84.240</td>\n",
       "    </tr>\n",
       "    <tr>\n",
       "      <th>Singapore</th>\n",
       "      <td>0.000</td>\n",
       "      <td>0.6000</td>\n",
       "      <td>107.100</td>\n",
       "    </tr>\n",
       "    <tr>\n",
       "      <th>Libya</th>\n",
       "      <td>0.000</td>\n",
       "      <td>0.7000</td>\n",
       "      <td>111.500</td>\n",
       "    </tr>\n",
       "    <tr>\n",
       "      <th>Malta</th>\n",
       "      <td>0.000</td>\n",
       "      <td>0.0505</td>\n",
       "      <td>120.600</td>\n",
       "    </tr>\n",
       "    <tr>\n",
       "      <th>Jordan</th>\n",
       "      <td>27.210</td>\n",
       "      <td>0.9370</td>\n",
       "      <td>123.400</td>\n",
       "    </tr>\n",
       "    <tr>\n",
       "      <th>Occupied Palestinian Territory</th>\n",
       "      <td>2.987</td>\n",
       "      <td>0.8370</td>\n",
       "      <td>179.300</td>\n",
       "    </tr>\n",
       "    <tr>\n",
       "      <th>Israel</th>\n",
       "      <td>57.870</td>\n",
       "      <td>1.7800</td>\n",
       "      <td>220.700</td>\n",
       "    </tr>\n",
       "    <tr>\n",
       "      <th>Barbados</th>\n",
       "      <td>0.000</td>\n",
       "      <td>0.0800</td>\n",
       "      <td>281.500</td>\n",
       "    </tr>\n",
       "    <tr>\n",
       "      <th>Algeria</th>\n",
       "      <td>3.599</td>\n",
       "      <td>11.6700</td>\n",
       "      <td>294.200</td>\n",
       "    </tr>\n",
       "  </tbody>\n",
       "</table>\n",
       "</div>"
      ],
      "text/plain": [
       "                                dependency  tot_renew  renew_pc\n",
       "country                                                        \n",
       "Kuwait                             100.000     0.0200     5.139\n",
       "United Arab Emirates                 0.000     0.1500    16.380\n",
       "Qatar                                3.448     0.0580    25.950\n",
       "Saudi Arabia                         0.000     2.4000    76.090\n",
       "Yemen                                0.000     2.1000    78.260\n",
       "Maldives                             0.000     0.0300    82.490\n",
       "Bahrain                             96.550     0.1160    84.240\n",
       "Singapore                            0.000     0.6000   107.100\n",
       "Libya                                0.000     0.7000   111.500\n",
       "Malta                                0.000     0.0505   120.600\n",
       "Jordan                              27.210     0.9370   123.400\n",
       "Occupied Palestinian Territory       2.987     0.8370   179.300\n",
       "Israel                              57.870     1.7800   220.700\n",
       "Barbados                             0.000     0.0800   281.500\n",
       "Algeria                              3.599    11.6700   294.200"
      ]
     },
     "execution_count": 14,
     "metadata": {},
     "output_type": "execute_result"
    }
   ],
   "source": [
    "# bottom 10 in renewable water resources per capita\n",
    "renew.sort_values('renew_pc').head(15)"
   ]
  },
  {
   "cell_type": "code",
   "execution_count": 15,
   "metadata": {
    "collapsed": true
   },
   "outputs": [],
   "source": [
    "renew.sort_values('renew_pc').head(15).to_csv('../data/clean/renew_pc_bot15.csv')"
   ]
  },
  {
   "cell_type": "code",
   "execution_count": 16,
   "metadata": {},
   "outputs": [
    {
     "data": {
      "text/html": [
       "<div>\n",
       "<style>\n",
       "    .dataframe thead tr:only-child th {\n",
       "        text-align: right;\n",
       "    }\n",
       "\n",
       "    .dataframe thead th {\n",
       "        text-align: left;\n",
       "    }\n",
       "\n",
       "    .dataframe tbody tr th {\n",
       "        vertical-align: top;\n",
       "    }\n",
       "</style>\n",
       "<table border=\"1\" class=\"dataframe\">\n",
       "  <thead>\n",
       "    <tr style=\"text-align: right;\">\n",
       "      <th></th>\n",
       "      <th>dependency</th>\n",
       "      <th>tot_renew</th>\n",
       "      <th>renew_pc</th>\n",
       "    </tr>\n",
       "    <tr>\n",
       "      <th>country</th>\n",
       "      <th></th>\n",
       "      <th></th>\n",
       "      <th></th>\n",
       "    </tr>\n",
       "  </thead>\n",
       "  <tbody>\n",
       "    <tr>\n",
       "      <th>Iceland</th>\n",
       "      <td>0.000</td>\n",
       "      <td>170.00</td>\n",
       "      <td>516090.0</td>\n",
       "    </tr>\n",
       "    <tr>\n",
       "      <th>Guyana</th>\n",
       "      <td>11.070</td>\n",
       "      <td>271.00</td>\n",
       "      <td>353279.0</td>\n",
       "    </tr>\n",
       "    <tr>\n",
       "      <th>Suriname</th>\n",
       "      <td>0.000</td>\n",
       "      <td>99.00</td>\n",
       "      <td>182320.0</td>\n",
       "    </tr>\n",
       "    <tr>\n",
       "      <th>Congo</th>\n",
       "      <td>73.320</td>\n",
       "      <td>832.00</td>\n",
       "      <td>180087.0</td>\n",
       "    </tr>\n",
       "    <tr>\n",
       "      <th>Papua New Guinea</th>\n",
       "      <td>0.000</td>\n",
       "      <td>801.00</td>\n",
       "      <td>105132.0</td>\n",
       "    </tr>\n",
       "    <tr>\n",
       "      <th>Bhutan</th>\n",
       "      <td>0.000</td>\n",
       "      <td>78.00</td>\n",
       "      <td>100671.0</td>\n",
       "    </tr>\n",
       "    <tr>\n",
       "      <th>Gabon</th>\n",
       "      <td>1.205</td>\n",
       "      <td>166.00</td>\n",
       "      <td>96232.0</td>\n",
       "    </tr>\n",
       "    <tr>\n",
       "      <th>Canada</th>\n",
       "      <td>1.792</td>\n",
       "      <td>2902.00</td>\n",
       "      <td>80746.0</td>\n",
       "    </tr>\n",
       "    <tr>\n",
       "      <th>Solomon Islands</th>\n",
       "      <td>0.000</td>\n",
       "      <td>44.70</td>\n",
       "      <td>76594.0</td>\n",
       "    </tr>\n",
       "    <tr>\n",
       "      <th>Norway</th>\n",
       "      <td>2.799</td>\n",
       "      <td>393.00</td>\n",
       "      <td>75417.0</td>\n",
       "    </tr>\n",
       "    <tr>\n",
       "      <th>New Zealand</th>\n",
       "      <td>0.000</td>\n",
       "      <td>327.00</td>\n",
       "      <td>72201.0</td>\n",
       "    </tr>\n",
       "    <tr>\n",
       "      <th>Belize</th>\n",
       "      <td>29.790</td>\n",
       "      <td>21.73</td>\n",
       "      <td>60479.0</td>\n",
       "    </tr>\n",
       "    <tr>\n",
       "      <th>Peru</th>\n",
       "      <td>12.700</td>\n",
       "      <td>1880.00</td>\n",
       "      <td>59916.0</td>\n",
       "    </tr>\n",
       "    <tr>\n",
       "      <th>Paraguay</th>\n",
       "      <td>69.830</td>\n",
       "      <td>387.80</td>\n",
       "      <td>58412.0</td>\n",
       "    </tr>\n",
       "    <tr>\n",
       "      <th>Bolivia (Plurinational State of)</th>\n",
       "      <td>47.130</td>\n",
       "      <td>574.00</td>\n",
       "      <td>53520.0</td>\n",
       "    </tr>\n",
       "  </tbody>\n",
       "</table>\n",
       "</div>"
      ],
      "text/plain": [
       "                                  dependency  tot_renew  renew_pc\n",
       "country                                                          \n",
       "Iceland                                0.000     170.00  516090.0\n",
       "Guyana                                11.070     271.00  353279.0\n",
       "Suriname                               0.000      99.00  182320.0\n",
       "Congo                                 73.320     832.00  180087.0\n",
       "Papua New Guinea                       0.000     801.00  105132.0\n",
       "Bhutan                                 0.000      78.00  100671.0\n",
       "Gabon                                  1.205     166.00   96232.0\n",
       "Canada                                 1.792    2902.00   80746.0\n",
       "Solomon Islands                        0.000      44.70   76594.0\n",
       "Norway                                 2.799     393.00   75417.0\n",
       "New Zealand                            0.000     327.00   72201.0\n",
       "Belize                                29.790      21.73   60479.0\n",
       "Peru                                  12.700    1880.00   59916.0\n",
       "Paraguay                              69.830     387.80   58412.0\n",
       "Bolivia (Plurinational State of)      47.130     574.00   53520.0"
      ]
     },
     "execution_count": 16,
     "metadata": {},
     "output_type": "execute_result"
    }
   ],
   "source": [
    "# top 10 in renewable water resources per capita\n",
    "renew.sort_values('renew_pc', ascending=False).head(15)"
   ]
  },
  {
   "cell_type": "code",
   "execution_count": 17,
   "metadata": {
    "collapsed": true
   },
   "outputs": [],
   "source": [
    "renew.sort_values('renew_pc', ascending=False).head(15).to_csv('../data/clean/renew_pc_top15.csv')"
   ]
  },
  {
   "cell_type": "code",
   "execution_count": 18,
   "metadata": {
    "collapsed": true
   },
   "outputs": [],
   "source": [
    "# save total renewable water resouces per capita for all countries\n",
    "renew.loc[:,['renew_pc']].to_csv('../data/clean/renew_all.csv')"
   ]
  },
  {
   "cell_type": "code",
   "execution_count": 19,
   "metadata": {},
   "outputs": [
    {
     "data": {
      "text/html": [
       "<div>\n",
       "<style>\n",
       "    .dataframe thead tr:only-child th {\n",
       "        text-align: right;\n",
       "    }\n",
       "\n",
       "    .dataframe thead th {\n",
       "        text-align: left;\n",
       "    }\n",
       "\n",
       "    .dataframe tbody tr th {\n",
       "        vertical-align: top;\n",
       "    }\n",
       "</style>\n",
       "<table border=\"1\" class=\"dataframe\">\n",
       "  <thead>\n",
       "    <tr style=\"text-align: right;\">\n",
       "      <th></th>\n",
       "      <th>dependency</th>\n",
       "      <th>tot_renew</th>\n",
       "      <th>renew_pc</th>\n",
       "    </tr>\n",
       "    <tr>\n",
       "      <th>country</th>\n",
       "      <th></th>\n",
       "      <th></th>\n",
       "      <th></th>\n",
       "    </tr>\n",
       "  </thead>\n",
       "  <tbody>\n",
       "    <tr>\n",
       "      <th>Kuwait</th>\n",
       "      <td>100.00</td>\n",
       "      <td>0.020</td>\n",
       "      <td>5.139</td>\n",
       "    </tr>\n",
       "    <tr>\n",
       "      <th>Turkmenistan</th>\n",
       "      <td>97.00</td>\n",
       "      <td>24.770</td>\n",
       "      <td>4609.000</td>\n",
       "    </tr>\n",
       "    <tr>\n",
       "      <th>Egypt</th>\n",
       "      <td>96.91</td>\n",
       "      <td>58.300</td>\n",
       "      <td>637.100</td>\n",
       "    </tr>\n",
       "    <tr>\n",
       "      <th>Bahrain</th>\n",
       "      <td>96.55</td>\n",
       "      <td>0.116</td>\n",
       "      <td>84.240</td>\n",
       "    </tr>\n",
       "    <tr>\n",
       "      <th>Mauritania</th>\n",
       "      <td>96.49</td>\n",
       "      <td>11.400</td>\n",
       "      <td>2802.000</td>\n",
       "    </tr>\n",
       "    <tr>\n",
       "      <th>Sudan</th>\n",
       "      <td>96.13</td>\n",
       "      <td>37.800</td>\n",
       "      <td>939.500</td>\n",
       "    </tr>\n",
       "    <tr>\n",
       "      <th>Hungary</th>\n",
       "      <td>94.23</td>\n",
       "      <td>104.000</td>\n",
       "      <td>10553.000</td>\n",
       "    </tr>\n",
       "    <tr>\n",
       "      <th>Bangladesh</th>\n",
       "      <td>91.44</td>\n",
       "      <td>1227.000</td>\n",
       "      <td>7621.000</td>\n",
       "    </tr>\n",
       "    <tr>\n",
       "      <th>Niger</th>\n",
       "      <td>89.72</td>\n",
       "      <td>34.050</td>\n",
       "      <td>1711.000</td>\n",
       "    </tr>\n",
       "    <tr>\n",
       "      <th>Netherlands</th>\n",
       "      <td>87.91</td>\n",
       "      <td>91.000</td>\n",
       "      <td>5377.000</td>\n",
       "    </tr>\n",
       "  </tbody>\n",
       "</table>\n",
       "</div>"
      ],
      "text/plain": [
       "              dependency  tot_renew   renew_pc\n",
       "country                                       \n",
       "Kuwait            100.00      0.020      5.139\n",
       "Turkmenistan       97.00     24.770   4609.000\n",
       "Egypt              96.91     58.300    637.100\n",
       "Bahrain            96.55      0.116     84.240\n",
       "Mauritania         96.49     11.400   2802.000\n",
       "Sudan              96.13     37.800    939.500\n",
       "Hungary            94.23    104.000  10553.000\n",
       "Bangladesh         91.44   1227.000   7621.000\n",
       "Niger              89.72     34.050   1711.000\n",
       "Netherlands        87.91     91.000   5377.000"
      ]
     },
     "execution_count": 19,
     "metadata": {},
     "output_type": "execute_result"
    }
   ],
   "source": [
    "# dependency ratio (sorted, lower is better)\n",
    "# Indicator expressing the percent of total renewable water resources originating outside the country. \n",
    "renew.sort_values('dependency', ascending=False).head(10)"
   ]
  },
  {
   "cell_type": "code",
   "execution_count": 20,
   "metadata": {
    "collapsed": true
   },
   "outputs": [],
   "source": [
    "#####\n",
    "# least populations near water & how it has changed over time\n",
    "#####"
   ]
  },
  {
   "cell_type": "code",
   "execution_count": 21,
   "metadata": {},
   "outputs": [
    {
     "data": {
      "text/html": [
       "<div>\n",
       "<style>\n",
       "    .dataframe thead tr:only-child th {\n",
       "        text-align: right;\n",
       "    }\n",
       "\n",
       "    .dataframe thead th {\n",
       "        text-align: left;\n",
       "    }\n",
       "\n",
       "    .dataframe tbody tr th {\n",
       "        vertical-align: top;\n",
       "    }\n",
       "</style>\n",
       "<table border=\"1\" class=\"dataframe\">\n",
       "  <thead>\n",
       "    <tr style=\"text-align: right;\">\n",
       "      <th></th>\n",
       "      <th>country</th>\n",
       "      <th>country_id</th>\n",
       "      <th>var_name</th>\n",
       "      <th>var_id</th>\n",
       "      <th>year</th>\n",
       "      <th>value</th>\n",
       "    </tr>\n",
       "  </thead>\n",
       "  <tbody>\n",
       "    <tr>\n",
       "      <th>2289</th>\n",
       "      <td>Papua New Guinea</td>\n",
       "      <td>168</td>\n",
       "      <td>Total population with access to safe drinking-...</td>\n",
       "      <td>4114</td>\n",
       "      <td>2012</td>\n",
       "      <td>39.9</td>\n",
       "    </tr>\n",
       "    <tr>\n",
       "      <th>957</th>\n",
       "      <td>Equatorial Guinea</td>\n",
       "      <td>61</td>\n",
       "      <td>Total population with access to safe drinking-...</td>\n",
       "      <td>4114</td>\n",
       "      <td>2012</td>\n",
       "      <td>47.7</td>\n",
       "    </tr>\n",
       "    <tr>\n",
       "      <th>74</th>\n",
       "      <td>Angola</td>\n",
       "      <td>7</td>\n",
       "      <td>Total population with access to safe drinking-...</td>\n",
       "      <td>4114</td>\n",
       "      <td>2012</td>\n",
       "      <td>47.8</td>\n",
       "    </tr>\n",
       "    <tr>\n",
       "      <th>1738</th>\n",
       "      <td>Madagascar</td>\n",
       "      <td>129</td>\n",
       "      <td>Total population with access to safe drinking-...</td>\n",
       "      <td>4114</td>\n",
       "      <td>2012</td>\n",
       "      <td>48.7</td>\n",
       "    </tr>\n",
       "    <tr>\n",
       "      <th>1993</th>\n",
       "      <td>Mozambique</td>\n",
       "      <td>144</td>\n",
       "      <td>Total population with access to safe drinking-...</td>\n",
       "      <td>4114</td>\n",
       "      <td>2012</td>\n",
       "      <td>50.1</td>\n",
       "    </tr>\n",
       "    <tr>\n",
       "      <th>575</th>\n",
       "      <td>Chad</td>\n",
       "      <td>39</td>\n",
       "      <td>Total population with access to safe drinking-...</td>\n",
       "      <td>4114</td>\n",
       "      <td>2012</td>\n",
       "      <td>50.7</td>\n",
       "    </tr>\n",
       "    <tr>\n",
       "      <th>820</th>\n",
       "      <td>Democratic Republic of the Congo</td>\n",
       "      <td>250</td>\n",
       "      <td>Total population with access to safe drinking-...</td>\n",
       "      <td>4114</td>\n",
       "      <td>2012</td>\n",
       "      <td>51.4</td>\n",
       "    </tr>\n",
       "    <tr>\n",
       "      <th>1005</th>\n",
       "      <td>Ethiopia</td>\n",
       "      <td>238</td>\n",
       "      <td>Total population with access to safe drinking-...</td>\n",
       "      <td>4114</td>\n",
       "      <td>2012</td>\n",
       "      <td>51.6</td>\n",
       "    </tr>\n",
       "    <tr>\n",
       "      <th>4</th>\n",
       "      <td>Afghanistan</td>\n",
       "      <td>2</td>\n",
       "      <td>Total population with access to safe drinking-...</td>\n",
       "      <td>4114</td>\n",
       "      <td>2012</td>\n",
       "      <td>51.6</td>\n",
       "    </tr>\n",
       "    <tr>\n",
       "      <th>3292</th>\n",
       "      <td>Yemen</td>\n",
       "      <td>249</td>\n",
       "      <td>Total population with access to safe drinking-...</td>\n",
       "      <td>4114</td>\n",
       "      <td>2012</td>\n",
       "      <td>54.9</td>\n",
       "    </tr>\n",
       "  </tbody>\n",
       "</table>\n",
       "</div>"
      ],
      "text/plain": [
       "                               country  country_id  \\\n",
       "2289                  Papua New Guinea         168   \n",
       "957                  Equatorial Guinea          61   \n",
       "74                              Angola           7   \n",
       "1738                        Madagascar         129   \n",
       "1993                        Mozambique         144   \n",
       "575                               Chad          39   \n",
       "820   Democratic Republic of the Congo         250   \n",
       "1005                          Ethiopia         238   \n",
       "4                          Afghanistan           2   \n",
       "3292                             Yemen         249   \n",
       "\n",
       "                                               var_name  var_id  year  value  \n",
       "2289  Total population with access to safe drinking-...    4114  2012   39.9  \n",
       "957   Total population with access to safe drinking-...    4114  2012   47.7  \n",
       "74    Total population with access to safe drinking-...    4114  2012   47.8  \n",
       "1738  Total population with access to safe drinking-...    4114  2012   48.7  \n",
       "1993  Total population with access to safe drinking-...    4114  2012   50.1  \n",
       "575   Total population with access to safe drinking-...    4114  2012   50.7  \n",
       "820   Total population with access to safe drinking-...    4114  2012   51.4  \n",
       "1005  Total population with access to safe drinking-...    4114  2012   51.6  \n",
       "4     Total population with access to safe drinking-...    4114  2012   51.6  \n",
       "3292  Total population with access to safe drinking-...    4114  2012   54.9  "
      ]
     },
     "execution_count": 21,
     "metadata": {},
     "output_type": "execute_result"
    }
   ],
   "source": [
    "# bottom 10 in access to drinking water\n",
    "access.loc[access.year==2012,].loc[access.var_id==4114,].sort_values('value').head(10)"
   ]
  },
  {
   "cell_type": "code",
   "execution_count": 22,
   "metadata": {},
   "outputs": [
    {
     "data": {
      "text/html": [
       "<div>\n",
       "<style>\n",
       "    .dataframe thead tr:only-child th {\n",
       "        text-align: right;\n",
       "    }\n",
       "\n",
       "    .dataframe thead th {\n",
       "        text-align: left;\n",
       "    }\n",
       "\n",
       "    .dataframe tbody tr th {\n",
       "        vertical-align: top;\n",
       "    }\n",
       "</style>\n",
       "<table border=\"1\" class=\"dataframe\">\n",
       "  <thead>\n",
       "    <tr style=\"text-align: right;\">\n",
       "      <th></th>\n",
       "      <th>country_id</th>\n",
       "      <th>var_id</th>\n",
       "      <th>value</th>\n",
       "    </tr>\n",
       "    <tr>\n",
       "      <th>year</th>\n",
       "      <th></th>\n",
       "      <th></th>\n",
       "      <th></th>\n",
       "    </tr>\n",
       "  </thead>\n",
       "  <tbody>\n",
       "    <tr>\n",
       "      <th>2012</th>\n",
       "      <td>130.820106</td>\n",
       "      <td>4114.0</td>\n",
       "      <td>87.992593</td>\n",
       "    </tr>\n",
       "  </tbody>\n",
       "</table>\n",
       "</div>"
      ],
      "text/plain": [
       "      country_id  var_id      value\n",
       "year                               \n",
       "2012  130.820106  4114.0  87.992593"
      ]
     },
     "execution_count": 22,
     "metadata": {},
     "output_type": "execute_result"
    }
   ],
   "source": [
    "# worldwide mean and median of access to drinking water\n",
    "access.loc[access.year==2012,].loc[access.var_id==4114,].groupby('year').mean()"
   ]
  },
  {
   "cell_type": "code",
   "execution_count": 23,
   "metadata": {},
   "outputs": [
    {
     "data": {
      "text/html": [
       "<div>\n",
       "<style>\n",
       "    .dataframe thead tr:only-child th {\n",
       "        text-align: right;\n",
       "    }\n",
       "\n",
       "    .dataframe thead th {\n",
       "        text-align: left;\n",
       "    }\n",
       "\n",
       "    .dataframe tbody tr th {\n",
       "        vertical-align: top;\n",
       "    }\n",
       "</style>\n",
       "<table border=\"1\" class=\"dataframe\">\n",
       "  <thead>\n",
       "    <tr style=\"text-align: right;\">\n",
       "      <th></th>\n",
       "      <th>country_id</th>\n",
       "      <th>var_id</th>\n",
       "      <th>value</th>\n",
       "    </tr>\n",
       "    <tr>\n",
       "      <th>year</th>\n",
       "      <th></th>\n",
       "      <th></th>\n",
       "      <th></th>\n",
       "    </tr>\n",
       "  </thead>\n",
       "  <tbody>\n",
       "    <tr>\n",
       "      <th>2012</th>\n",
       "      <td>130</td>\n",
       "      <td>4114</td>\n",
       "      <td>95.1</td>\n",
       "    </tr>\n",
       "  </tbody>\n",
       "</table>\n",
       "</div>"
      ],
      "text/plain": [
       "      country_id  var_id  value\n",
       "year                           \n",
       "2012         130    4114   95.1"
      ]
     },
     "execution_count": 23,
     "metadata": {},
     "output_type": "execute_result"
    }
   ],
   "source": [
    "access.loc[access.year==2012,].loc[access.var_id==4114,].groupby('year').median()"
   ]
  },
  {
   "cell_type": "code",
   "execution_count": 24,
   "metadata": {
    "collapsed": true
   },
   "outputs": [],
   "source": [
    "# subsete to total population\n",
    "access_del = access.loc[access.var_id==4114]"
   ]
  },
  {
   "cell_type": "code",
   "execution_count": 25,
   "metadata": {
    "collapsed": true
   },
   "outputs": [],
   "source": [
    "# create pivot table\n",
    "access_del = access_del.pivot(index='country', columns='year', values='value')"
   ]
  },
  {
   "cell_type": "code",
   "execution_count": 26,
   "metadata": {
    "collapsed": true
   },
   "outputs": [],
   "source": [
    "# divide percentages by 100\n",
    "access_del = access_del/100"
   ]
  },
  {
   "cell_type": "code",
   "execution_count": 27,
   "metadata": {
    "collapsed": true
   },
   "outputs": [],
   "source": [
    "access_del['change'] = access_del.loc[:,2015] - access_del.loc[:,1992]"
   ]
  },
  {
   "cell_type": "code",
   "execution_count": 28,
   "metadata": {
    "collapsed": true
   },
   "outputs": [],
   "source": [
    "# bottom 10 in change between 1992 and 2014\n",
    "access_del_bot = access_del.sort_values('change').head(10)"
   ]
  },
  {
   "cell_type": "code",
   "execution_count": 29,
   "metadata": {},
   "outputs": [
    {
     "data": {
      "text/html": [
       "<div>\n",
       "<style>\n",
       "    .dataframe thead tr:only-child th {\n",
       "        text-align: right;\n",
       "    }\n",
       "\n",
       "    .dataframe thead th {\n",
       "        text-align: left;\n",
       "    }\n",
       "\n",
       "    .dataframe tbody tr th {\n",
       "        vertical-align: top;\n",
       "    }\n",
       "</style>\n",
       "<table border=\"1\" class=\"dataframe\">\n",
       "  <thead>\n",
       "    <tr style=\"text-align: right;\">\n",
       "      <th>country</th>\n",
       "      <th>Occupied Palestinian Territory</th>\n",
       "      <th>Algeria</th>\n",
       "      <th>Haiti</th>\n",
       "      <th>Zimbabwe</th>\n",
       "      <th>Dominican Republic</th>\n",
       "    </tr>\n",
       "    <tr>\n",
       "      <th>year</th>\n",
       "      <th></th>\n",
       "      <th></th>\n",
       "      <th></th>\n",
       "      <th></th>\n",
       "      <th></th>\n",
       "    </tr>\n",
       "  </thead>\n",
       "  <tbody>\n",
       "    <tr>\n",
       "      <th>1992</th>\n",
       "      <td>0.958</td>\n",
       "      <td>0.917</td>\n",
       "      <td>0.628</td>\n",
       "      <td>0.796</td>\n",
       "      <td>0.871</td>\n",
       "    </tr>\n",
       "    <tr>\n",
       "      <th>1997</th>\n",
       "      <td>0.960</td>\n",
       "      <td>0.905</td>\n",
       "      <td>0.617</td>\n",
       "      <td>0.795</td>\n",
       "      <td>0.870</td>\n",
       "    </tr>\n",
       "    <tr>\n",
       "      <th>2002</th>\n",
       "      <td>0.867</td>\n",
       "      <td>0.888</td>\n",
       "      <td>0.608</td>\n",
       "      <td>0.794</td>\n",
       "      <td>0.867</td>\n",
       "    </tr>\n",
       "    <tr>\n",
       "      <th>2007</th>\n",
       "      <td>0.760</td>\n",
       "      <td>0.870</td>\n",
       "      <td>0.602</td>\n",
       "      <td>0.784</td>\n",
       "      <td>0.863</td>\n",
       "    </tr>\n",
       "    <tr>\n",
       "      <th>2012</th>\n",
       "      <td>0.651</td>\n",
       "      <td>0.849</td>\n",
       "      <td>0.585</td>\n",
       "      <td>0.775</td>\n",
       "      <td>0.854</td>\n",
       "    </tr>\n",
       "    <tr>\n",
       "      <th>2015</th>\n",
       "      <td>0.584</td>\n",
       "      <td>0.836</td>\n",
       "      <td>0.577</td>\n",
       "      <td>0.769</td>\n",
       "      <td>0.847</td>\n",
       "    </tr>\n",
       "  </tbody>\n",
       "</table>\n",
       "</div>"
      ],
      "text/plain": [
       "country  Occupied Palestinian Territory  Algeria  Haiti  Zimbabwe  \\\n",
       "year                                                                \n",
       "1992                              0.958    0.917  0.628     0.796   \n",
       "1997                              0.960    0.905  0.617     0.795   \n",
       "2002                              0.867    0.888  0.608     0.794   \n",
       "2007                              0.760    0.870  0.602     0.784   \n",
       "2012                              0.651    0.849  0.585     0.775   \n",
       "2015                              0.584    0.836  0.577     0.769   \n",
       "\n",
       "country  Dominican Republic  \n",
       "year                         \n",
       "1992                  0.871  \n",
       "1997                  0.870  \n",
       "2002                  0.867  \n",
       "2007                  0.863  \n",
       "2012                  0.854  \n",
       "2015                  0.847  "
      ]
     },
     "execution_count": 29,
     "metadata": {},
     "output_type": "execute_result"
    }
   ],
   "source": [
    "access_del_bot.dropna(axis=1).iloc[:5,:-1].transpose()"
   ]
  },
  {
   "cell_type": "code",
   "execution_count": 30,
   "metadata": {
    "collapsed": true
   },
   "outputs": [],
   "source": [
    "access_del_bot.dropna(axis=1).iloc[:5,:-1].transpose().to_csv('../data/clean/access_yrly_bot5.csv')"
   ]
  },
  {
   "cell_type": "code",
   "execution_count": 31,
   "metadata": {
    "collapsed": true
   },
   "outputs": [],
   "source": [
    "access_del_bot_ch = access_del_bot[[1992, 2015, 'change']]"
   ]
  },
  {
   "cell_type": "code",
   "execution_count": 32,
   "metadata": {},
   "outputs": [
    {
     "data": {
      "text/html": [
       "<div>\n",
       "<style>\n",
       "    .dataframe thead tr:only-child th {\n",
       "        text-align: right;\n",
       "    }\n",
       "\n",
       "    .dataframe thead th {\n",
       "        text-align: left;\n",
       "    }\n",
       "\n",
       "    .dataframe tbody tr th {\n",
       "        vertical-align: top;\n",
       "    }\n",
       "</style>\n",
       "<table border=\"1\" class=\"dataframe\">\n",
       "  <thead>\n",
       "    <tr style=\"text-align: right;\">\n",
       "      <th>year</th>\n",
       "      <th>1992</th>\n",
       "      <th>2015</th>\n",
       "      <th>change</th>\n",
       "    </tr>\n",
       "    <tr>\n",
       "      <th>country</th>\n",
       "      <th></th>\n",
       "      <th></th>\n",
       "      <th></th>\n",
       "    </tr>\n",
       "  </thead>\n",
       "  <tbody>\n",
       "    <tr>\n",
       "      <th>Occupied Palestinian Territory</th>\n",
       "      <td>0.958</td>\n",
       "      <td>0.584</td>\n",
       "      <td>-0.374</td>\n",
       "    </tr>\n",
       "    <tr>\n",
       "      <th>Algeria</th>\n",
       "      <td>0.917</td>\n",
       "      <td>0.836</td>\n",
       "      <td>-0.081</td>\n",
       "    </tr>\n",
       "    <tr>\n",
       "      <th>Haiti</th>\n",
       "      <td>0.628</td>\n",
       "      <td>0.577</td>\n",
       "      <td>-0.051</td>\n",
       "    </tr>\n",
       "    <tr>\n",
       "      <th>Zimbabwe</th>\n",
       "      <td>0.796</td>\n",
       "      <td>0.769</td>\n",
       "      <td>-0.027</td>\n",
       "    </tr>\n",
       "    <tr>\n",
       "      <th>Dominican Republic</th>\n",
       "      <td>0.871</td>\n",
       "      <td>0.847</td>\n",
       "      <td>-0.024</td>\n",
       "    </tr>\n",
       "    <tr>\n",
       "      <th>Micronesia (Federated States of)</th>\n",
       "      <td>0.910</td>\n",
       "      <td>0.890</td>\n",
       "      <td>-0.020</td>\n",
       "    </tr>\n",
       "    <tr>\n",
       "      <th>Kazakhstan</th>\n",
       "      <td>0.941</td>\n",
       "      <td>0.929</td>\n",
       "      <td>-0.012</td>\n",
       "    </tr>\n",
       "    <tr>\n",
       "      <th>Niue</th>\n",
       "      <td>0.992</td>\n",
       "      <td>0.985</td>\n",
       "      <td>-0.007</td>\n",
       "    </tr>\n",
       "    <tr>\n",
       "      <th>Bulgaria</th>\n",
       "      <td>0.999</td>\n",
       "      <td>0.994</td>\n",
       "      <td>-0.005</td>\n",
       "    </tr>\n",
       "    <tr>\n",
       "      <th>Democratic People's Republic of Korea</th>\n",
       "      <td>1.000</td>\n",
       "      <td>0.997</td>\n",
       "      <td>-0.003</td>\n",
       "    </tr>\n",
       "  </tbody>\n",
       "</table>\n",
       "</div>"
      ],
      "text/plain": [
       "year                                    1992   2015  change\n",
       "country                                                    \n",
       "Occupied Palestinian Territory         0.958  0.584  -0.374\n",
       "Algeria                                0.917  0.836  -0.081\n",
       "Haiti                                  0.628  0.577  -0.051\n",
       "Zimbabwe                               0.796  0.769  -0.027\n",
       "Dominican Republic                     0.871  0.847  -0.024\n",
       "Micronesia (Federated States of)       0.910  0.890  -0.020\n",
       "Kazakhstan                             0.941  0.929  -0.012\n",
       "Niue                                   0.992  0.985  -0.007\n",
       "Bulgaria                               0.999  0.994  -0.005\n",
       "Democratic People's Republic of Korea  1.000  0.997  -0.003"
      ]
     },
     "execution_count": 32,
     "metadata": {},
     "output_type": "execute_result"
    }
   ],
   "source": [
    "access_del_bot_ch"
   ]
  },
  {
   "cell_type": "code",
   "execution_count": 33,
   "metadata": {
    "collapsed": true
   },
   "outputs": [],
   "source": [
    "access_del_bot_ch = access_del_bot[[1992, 2015, 'change']]"
   ]
  },
  {
   "cell_type": "code",
   "execution_count": 34,
   "metadata": {
    "collapsed": true
   },
   "outputs": [],
   "source": [
    "access_del_bot_ch.columns = ['first', 'last', 'change']"
   ]
  },
  {
   "cell_type": "code",
   "execution_count": 35,
   "metadata": {
    "collapsed": true
   },
   "outputs": [],
   "source": [
    "access_del_bot_ch.to_csv('../data/clean/access_del_bot10.csv')"
   ]
  },
  {
   "cell_type": "code",
   "execution_count": 36,
   "metadata": {
    "collapsed": true
   },
   "outputs": [],
   "source": [
    "# top 10 in change between 1992 and 2014\n",
    "access_del_top = access_del.sort_values('change', ascending=False).head(10)"
   ]
  },
  {
   "cell_type": "code",
   "execution_count": 37,
   "metadata": {},
   "outputs": [
    {
     "data": {
      "text/html": [
       "<div>\n",
       "<style>\n",
       "    .dataframe thead tr:only-child th {\n",
       "        text-align: right;\n",
       "    }\n",
       "\n",
       "    .dataframe thead th {\n",
       "        text-align: left;\n",
       "    }\n",
       "\n",
       "    .dataframe tbody tr th {\n",
       "        vertical-align: top;\n",
       "    }\n",
       "</style>\n",
       "<table border=\"1\" class=\"dataframe\">\n",
       "  <thead>\n",
       "    <tr style=\"text-align: right;\">\n",
       "      <th>year</th>\n",
       "      <th>1992</th>\n",
       "      <th>1997</th>\n",
       "      <th>2001</th>\n",
       "      <th>2002</th>\n",
       "      <th>2006</th>\n",
       "      <th>2007</th>\n",
       "      <th>2011</th>\n",
       "      <th>2012</th>\n",
       "      <th>2014</th>\n",
       "      <th>2015</th>\n",
       "      <th>change</th>\n",
       "    </tr>\n",
       "    <tr>\n",
       "      <th>country</th>\n",
       "      <th></th>\n",
       "      <th></th>\n",
       "      <th></th>\n",
       "      <th></th>\n",
       "      <th></th>\n",
       "      <th></th>\n",
       "      <th></th>\n",
       "      <th></th>\n",
       "      <th></th>\n",
       "      <th></th>\n",
       "      <th></th>\n",
       "    </tr>\n",
       "  </thead>\n",
       "  <tbody>\n",
       "    <tr>\n",
       "      <th>Cambodia</th>\n",
       "      <td>0.235</td>\n",
       "      <td>0.348</td>\n",
       "      <td>NaN</td>\n",
       "      <td>0.461</td>\n",
       "      <td>NaN</td>\n",
       "      <td>0.574</td>\n",
       "      <td>NaN</td>\n",
       "      <td>0.688</td>\n",
       "      <td>NaN</td>\n",
       "      <td>0.755</td>\n",
       "      <td>0.520</td>\n",
       "    </tr>\n",
       "    <tr>\n",
       "      <th>Mali</th>\n",
       "      <td>0.310</td>\n",
       "      <td>0.406</td>\n",
       "      <td>NaN</td>\n",
       "      <td>0.506</td>\n",
       "      <td>NaN</td>\n",
       "      <td>0.608</td>\n",
       "      <td>NaN</td>\n",
       "      <td>0.709</td>\n",
       "      <td>NaN</td>\n",
       "      <td>0.770</td>\n",
       "      <td>0.460</td>\n",
       "    </tr>\n",
       "    <tr>\n",
       "      <th>Malawi</th>\n",
       "      <td>0.466</td>\n",
       "      <td>0.568</td>\n",
       "      <td>NaN</td>\n",
       "      <td>0.662</td>\n",
       "      <td>NaN</td>\n",
       "      <td>0.755</td>\n",
       "      <td>NaN</td>\n",
       "      <td>0.847</td>\n",
       "      <td>NaN</td>\n",
       "      <td>0.902</td>\n",
       "      <td>0.436</td>\n",
       "    </tr>\n",
       "    <tr>\n",
       "      <th>Paraguay</th>\n",
       "      <td>0.574</td>\n",
       "      <td>0.676</td>\n",
       "      <td>NaN</td>\n",
       "      <td>0.771</td>\n",
       "      <td>NaN</td>\n",
       "      <td>0.854</td>\n",
       "      <td>NaN</td>\n",
       "      <td>0.934</td>\n",
       "      <td>NaN</td>\n",
       "      <td>0.980</td>\n",
       "      <td>0.406</td>\n",
       "    </tr>\n",
       "    <tr>\n",
       "      <th>Guinea-Bissau</th>\n",
       "      <td>0.391</td>\n",
       "      <td>0.471</td>\n",
       "      <td>NaN</td>\n",
       "      <td>0.555</td>\n",
       "      <td>NaN</td>\n",
       "      <td>0.643</td>\n",
       "      <td>NaN</td>\n",
       "      <td>0.736</td>\n",
       "      <td>NaN</td>\n",
       "      <td>0.793</td>\n",
       "      <td>0.402</td>\n",
       "    </tr>\n",
       "    <tr>\n",
       "      <th>Burkina Faso</th>\n",
       "      <td>0.454</td>\n",
       "      <td>0.543</td>\n",
       "      <td>NaN</td>\n",
       "      <td>0.636</td>\n",
       "      <td>NaN</td>\n",
       "      <td>0.728</td>\n",
       "      <td>NaN</td>\n",
       "      <td>0.817</td>\n",
       "      <td>NaN</td>\n",
       "      <td>0.823</td>\n",
       "      <td>0.369</td>\n",
       "    </tr>\n",
       "    <tr>\n",
       "      <th>Uganda</th>\n",
       "      <td>0.436</td>\n",
       "      <td>0.516</td>\n",
       "      <td>NaN</td>\n",
       "      <td>0.596</td>\n",
       "      <td>NaN</td>\n",
       "      <td>0.677</td>\n",
       "      <td>NaN</td>\n",
       "      <td>0.758</td>\n",
       "      <td>NaN</td>\n",
       "      <td>0.790</td>\n",
       "      <td>0.354</td>\n",
       "    </tr>\n",
       "    <tr>\n",
       "      <th>Swaziland</th>\n",
       "      <td>0.389</td>\n",
       "      <td>0.465</td>\n",
       "      <td>NaN</td>\n",
       "      <td>0.556</td>\n",
       "      <td>NaN</td>\n",
       "      <td>0.648</td>\n",
       "      <td>NaN</td>\n",
       "      <td>0.742</td>\n",
       "      <td>NaN</td>\n",
       "      <td>0.741</td>\n",
       "      <td>0.352</td>\n",
       "    </tr>\n",
       "    <tr>\n",
       "      <th>Afghanistan</th>\n",
       "      <td>0.213</td>\n",
       "      <td>0.250</td>\n",
       "      <td>NaN</td>\n",
       "      <td>0.338</td>\n",
       "      <td>NaN</td>\n",
       "      <td>0.426</td>\n",
       "      <td>NaN</td>\n",
       "      <td>0.516</td>\n",
       "      <td>NaN</td>\n",
       "      <td>0.553</td>\n",
       "      <td>0.340</td>\n",
       "    </tr>\n",
       "    <tr>\n",
       "      <th>Viet Nam</th>\n",
       "      <td>0.657</td>\n",
       "      <td>0.731</td>\n",
       "      <td>NaN</td>\n",
       "      <td>0.803</td>\n",
       "      <td>NaN</td>\n",
       "      <td>0.873</td>\n",
       "      <td>NaN</td>\n",
       "      <td>0.938</td>\n",
       "      <td>NaN</td>\n",
       "      <td>0.976</td>\n",
       "      <td>0.319</td>\n",
       "    </tr>\n",
       "  </tbody>\n",
       "</table>\n",
       "</div>"
      ],
      "text/plain": [
       "year            1992   1997  2001   2002  2006   2007  2011   2012  2014  \\\n",
       "country                                                                    \n",
       "Cambodia       0.235  0.348   NaN  0.461   NaN  0.574   NaN  0.688   NaN   \n",
       "Mali           0.310  0.406   NaN  0.506   NaN  0.608   NaN  0.709   NaN   \n",
       "Malawi         0.466  0.568   NaN  0.662   NaN  0.755   NaN  0.847   NaN   \n",
       "Paraguay       0.574  0.676   NaN  0.771   NaN  0.854   NaN  0.934   NaN   \n",
       "Guinea-Bissau  0.391  0.471   NaN  0.555   NaN  0.643   NaN  0.736   NaN   \n",
       "Burkina Faso   0.454  0.543   NaN  0.636   NaN  0.728   NaN  0.817   NaN   \n",
       "Uganda         0.436  0.516   NaN  0.596   NaN  0.677   NaN  0.758   NaN   \n",
       "Swaziland      0.389  0.465   NaN  0.556   NaN  0.648   NaN  0.742   NaN   \n",
       "Afghanistan    0.213  0.250   NaN  0.338   NaN  0.426   NaN  0.516   NaN   \n",
       "Viet Nam       0.657  0.731   NaN  0.803   NaN  0.873   NaN  0.938   NaN   \n",
       "\n",
       "year            2015  change  \n",
       "country                       \n",
       "Cambodia       0.755   0.520  \n",
       "Mali           0.770   0.460  \n",
       "Malawi         0.902   0.436  \n",
       "Paraguay       0.980   0.406  \n",
       "Guinea-Bissau  0.793   0.402  \n",
       "Burkina Faso   0.823   0.369  \n",
       "Uganda         0.790   0.354  \n",
       "Swaziland      0.741   0.352  \n",
       "Afghanistan    0.553   0.340  \n",
       "Viet Nam       0.976   0.319  "
      ]
     },
     "execution_count": 37,
     "metadata": {},
     "output_type": "execute_result"
    }
   ],
   "source": [
    "access_del_top"
   ]
  },
  {
   "cell_type": "code",
   "execution_count": 38,
   "metadata": {
    "collapsed": true
   },
   "outputs": [],
   "source": [
    "access_del_top.to_csv('../data/clean/access_del_top10.csv')"
   ]
  },
  {
   "cell_type": "code",
   "execution_count": 39,
   "metadata": {
    "collapsed": true
   },
   "outputs": [],
   "source": [
    "# bottom 10 in water access\n",
    "access_bot = access.loc[access.var_id==4114,]"
   ]
  },
  {
   "cell_type": "code",
   "execution_count": 40,
   "metadata": {
    "collapsed": true
   },
   "outputs": [],
   "source": [
    "# grab lat east year data\n",
    "access_bot = access_bot.groupby('country').agg({'year':'max', 'value':'last'})"
   ]
  },
  {
   "cell_type": "code",
   "execution_count": 41,
   "metadata": {
    "collapsed": true
   },
   "outputs": [],
   "source": [
    "access_bot = access_bot[['value']]"
   ]
  },
  {
   "cell_type": "code",
   "execution_count": 42,
   "metadata": {
    "collapsed": true
   },
   "outputs": [],
   "source": [
    "access_bot.columns = ['drinking_access']"
   ]
  },
  {
   "cell_type": "code",
   "execution_count": 43,
   "metadata": {
    "collapsed": true
   },
   "outputs": [],
   "source": [
    "access_bot = access_bot.sort_values('drinking_access', ascending=True).head(20)"
   ]
  },
  {
   "cell_type": "code",
   "execution_count": 44,
   "metadata": {
    "collapsed": true
   },
   "outputs": [],
   "source": [
    "access_bot.to_csv('../data/clean/drinking_access_bot20.csv')"
   ]
  },
  {
   "cell_type": "code",
   "execution_count": 45,
   "metadata": {
    "collapsed": true
   },
   "outputs": [],
   "source": [
    "access_all = access.loc[access['var_id']==4114,].loc[access['year']==2015,]"
   ]
  },
  {
   "cell_type": "code",
   "execution_count": 46,
   "metadata": {
    "collapsed": true
   },
   "outputs": [],
   "source": [
    "access_all = access_all.pivot(index='country', columns='var_id', values='value')"
   ]
  },
  {
   "cell_type": "code",
   "execution_count": 47,
   "metadata": {
    "collapsed": true
   },
   "outputs": [],
   "source": [
    "access_all.columns = ['drinking_access']"
   ]
  },
  {
   "cell_type": "code",
   "execution_count": 113,
   "metadata": {},
   "outputs": [],
   "source": [
    "access_all = access_all / 100"
   ]
  },
  {
   "cell_type": "code",
   "execution_count": 114,
   "metadata": {
    "collapsed": true
   },
   "outputs": [],
   "source": [
    "access_all.to_csv('../data/clean/drinking_access_all.csv')"
   ]
  },
  {
   "cell_type": "code",
   "execution_count": 49,
   "metadata": {
    "collapsed": true
   },
   "outputs": [],
   "source": [
    "#####\n",
    "# countries with water resources under most stress\n",
    "#####"
   ]
  },
  {
   "cell_type": "code",
   "execution_count": 50,
   "metadata": {
    "collapsed": true
   },
   "outputs": [],
   "source": [
    "# annual freshwater withdrawal as % of total renewable water resources in most-recent year \n",
    "fresh_presh = pressure.loc[pressure.var_id==4275,]"
   ]
  },
  {
   "cell_type": "code",
   "execution_count": 51,
   "metadata": {
    "collapsed": true
   },
   "outputs": [],
   "source": [
    "# find latest year for each country\n",
    "fresh_presh = fresh_presh.groupby('country').agg({'year':'max', 'value':'last'})"
   ]
  },
  {
   "cell_type": "code",
   "execution_count": 52,
   "metadata": {
    "collapsed": true
   },
   "outputs": [],
   "source": [
    "# remove values before 2000\n",
    "fresh_presh = fresh_presh.loc[fresh_presh.year>2000,]"
   ]
  },
  {
   "cell_type": "code",
   "execution_count": 53,
   "metadata": {
    "collapsed": true
   },
   "outputs": [],
   "source": [
    "fresh_presh.columns = ['year', 'tfwtrwr']"
   ]
  },
  {
   "cell_type": "code",
   "execution_count": 54,
   "metadata": {
    "collapsed": true
   },
   "outputs": [],
   "source": [
    "#####\n",
    "# countries with most exploitable water resources\n",
    "#####"
   ]
  },
  {
   "cell_type": "code",
   "execution_count": 55,
   "metadata": {
    "collapsed": true
   },
   "outputs": [],
   "source": [
    "# how are dam capacity and water stress correlated with GDP per capita and HDI?"
   ]
  },
  {
   "cell_type": "code",
   "execution_count": 56,
   "metadata": {
    "collapsed": true
   },
   "outputs": [],
   "source": [
    "exploit_access = exploit.loc[exploit.var_id==4197,].loc[exploit.year==2015,]"
   ]
  },
  {
   "cell_type": "code",
   "execution_count": 57,
   "metadata": {
    "collapsed": true
   },
   "outputs": [],
   "source": [
    "exploit_access = exploit_access.pivot(index='country', columns='var_name', values='value')"
   ]
  },
  {
   "cell_type": "code",
   "execution_count": 58,
   "metadata": {
    "collapsed": true
   },
   "outputs": [],
   "source": [
    "access_hdi = access.loc[access.var_id==4114,].loc[access.year==2015,]"
   ]
  },
  {
   "cell_type": "code",
   "execution_count": 59,
   "metadata": {
    "collapsed": true
   },
   "outputs": [],
   "source": [
    "access_hdi = access_hdi.pivot(index='country', columns='var_name', values='value')"
   ]
  },
  {
   "cell_type": "code",
   "execution_count": 60,
   "metadata": {
    "collapsed": true
   },
   "outputs": [],
   "source": [
    "exploit_access.columns = ['dam_capacity']"
   ]
  },
  {
   "cell_type": "code",
   "execution_count": 61,
   "metadata": {
    "collapsed": true
   },
   "outputs": [],
   "source": [
    "access_hdi.columns = ['water_access']"
   ]
  },
  {
   "cell_type": "code",
   "execution_count": 62,
   "metadata": {
    "collapsed": true
   },
   "outputs": [],
   "source": [
    "access_hdi = access_hdi / 100"
   ]
  },
  {
   "cell_type": "code",
   "execution_count": 63,
   "metadata": {
    "collapsed": true
   },
   "outputs": [],
   "source": [
    "exploit_access = exploit_access.join(access_hdi, how='inner')"
   ]
  },
  {
   "cell_type": "code",
   "execution_count": 64,
   "metadata": {
    "collapsed": true
   },
   "outputs": [],
   "source": [
    "exploit_access = exploit_access.join(econ, how='inner')"
   ]
  },
  {
   "cell_type": "code",
   "execution_count": 65,
   "metadata": {
    "collapsed": true
   },
   "outputs": [],
   "source": [
    "exploit_access.to_csv('../data/clean/dam_capacity_drinking_access.csv')"
   ]
  },
  {
   "cell_type": "code",
   "execution_count": 66,
   "metadata": {
    "collapsed": true
   },
   "outputs": [],
   "source": [
    "#####\n",
    "# correlations with GDP & HDI\n",
    "#####"
   ]
  },
  {
   "cell_type": "code",
   "execution_count": 67,
   "metadata": {
    "collapsed": true
   },
   "outputs": [],
   "source": [
    "# subset to GDP per capita, total population, HDI\n",
    "econ = econ.loc[econ.var_id.isin([4458,4104,4111]),]"
   ]
  },
  {
   "cell_type": "code",
   "execution_count": 68,
   "metadata": {
    "collapsed": true
   },
   "outputs": [],
   "source": [
    "# most recent years\n",
    "econ = econ.groupby(['country', 'var_name']).agg({'year':'max', 'value':'last'})"
   ]
  },
  {
   "cell_type": "code",
   "execution_count": 69,
   "metadata": {
    "collapsed": true
   },
   "outputs": [],
   "source": [
    "# reset index and pivot data\n",
    "econ = econ.reset_index()"
   ]
  },
  {
   "cell_type": "code",
   "execution_count": 70,
   "metadata": {
    "collapsed": true
   },
   "outputs": [],
   "source": [
    "econ = econ.pivot(index='country', columns='var_name', values='value')"
   ]
  },
  {
   "cell_type": "code",
   "execution_count": 71,
   "metadata": {
    "collapsed": true
   },
   "outputs": [],
   "source": [
    "econ.columns = ['gdp_pc', 'hdi', 'population']"
   ]
  },
  {
   "cell_type": "code",
   "execution_count": 72,
   "metadata": {
    "collapsed": true
   },
   "outputs": [],
   "source": [
    "# join with freshwater stress\n",
    "water_econ_corr = econ.join(fresh_presh.tfwtrwr, how='right')"
   ]
  },
  {
   "cell_type": "code",
   "execution_count": 73,
   "metadata": {
    "collapsed": true
   },
   "outputs": [],
   "source": [
    "water_econ_corr.to_csv('../data/clean/water_econ_corr.csv')"
   ]
  },
  {
   "cell_type": "code",
   "execution_count": 74,
   "metadata": {
    "collapsed": true
   },
   "outputs": [],
   "source": [
    "# access and HDI"
   ]
  },
  {
   "cell_type": "code",
   "execution_count": 75,
   "metadata": {
    "collapsed": true
   },
   "outputs": [],
   "source": [
    "access_hdi = access_hdi.join(econ, how='inner')"
   ]
  },
  {
   "cell_type": "code",
   "execution_count": 76,
   "metadata": {
    "collapsed": true
   },
   "outputs": [],
   "source": [
    "access_hdi.to_csv('../data/clean/drinking_access_econ.csv')"
   ]
  },
  {
   "cell_type": "code",
   "execution_count": 77,
   "metadata": {
    "collapsed": true
   },
   "outputs": [],
   "source": [
    "#####\n",
    "# withdrawal by sector & country\n",
    "# compare with GDP & HDI\n",
    "# desalination produced\n",
    "#####"
   ]
  },
  {
   "cell_type": "code",
   "execution_count": 78,
   "metadata": {
    "collapsed": true
   },
   "outputs": [],
   "source": [
    "# subset to latest available years\n",
    "withdrawal = withdrawal.groupby(['country', 'var_name']).agg({'year':'max', 'value':'last'})"
   ]
  },
  {
   "cell_type": "code",
   "execution_count": 79,
   "metadata": {
    "collapsed": true
   },
   "outputs": [],
   "source": [
    "# reset index and pivot data\n",
    "withdrawal = withdrawal.reset_index()"
   ]
  },
  {
   "cell_type": "code",
   "execution_count": 80,
   "metadata": {
    "collapsed": true
   },
   "outputs": [],
   "source": [
    "withdrawal = withdrawal.pivot(index='country', columns='var_name', values='value')"
   ]
  },
  {
   "cell_type": "code",
   "execution_count": 81,
   "metadata": {
    "collapsed": true
   },
   "outputs": [],
   "source": [
    "# drop unneeded columns\n",
    "withdrawal = withdrawal.drop(withdrawal.columns[3:5], axis=1)"
   ]
  },
  {
   "cell_type": "code",
   "execution_count": 82,
   "metadata": {
    "collapsed": true
   },
   "outputs": [],
   "source": [
    "# rename columns\n",
    "withdrawal.columns = ['agricultural', 'agricultural_pct', 'desalinated', 'industrial', 'industrial_pct', 'irrigation_req',\n",
    "                     'irrigation', 'municipal', 'municipal_pct', 'total_fresh', 'total_water', 'total_water_pc']"
   ]
  },
  {
   "cell_type": "code",
   "execution_count": 83,
   "metadata": {},
   "outputs": [
    {
     "data": {
      "text/html": [
       "<div>\n",
       "<style>\n",
       "    .dataframe thead tr:only-child th {\n",
       "        text-align: right;\n",
       "    }\n",
       "\n",
       "    .dataframe thead th {\n",
       "        text-align: left;\n",
       "    }\n",
       "\n",
       "    .dataframe tbody tr th {\n",
       "        vertical-align: top;\n",
       "    }\n",
       "</style>\n",
       "<table border=\"1\" class=\"dataframe\">\n",
       "  <thead>\n",
       "    <tr style=\"text-align: right;\">\n",
       "      <th></th>\n",
       "      <th>agricultural</th>\n",
       "      <th>agricultural_pct</th>\n",
       "      <th>desalinated</th>\n",
       "      <th>industrial</th>\n",
       "      <th>industrial_pct</th>\n",
       "      <th>irrigation_req</th>\n",
       "      <th>irrigation</th>\n",
       "      <th>municipal</th>\n",
       "      <th>municipal_pct</th>\n",
       "      <th>total_fresh</th>\n",
       "      <th>total_water</th>\n",
       "      <th>total_water_pc</th>\n",
       "    </tr>\n",
       "    <tr>\n",
       "      <th>country</th>\n",
       "      <th></th>\n",
       "      <th></th>\n",
       "      <th></th>\n",
       "      <th></th>\n",
       "      <th></th>\n",
       "      <th></th>\n",
       "      <th></th>\n",
       "      <th></th>\n",
       "      <th></th>\n",
       "      <th></th>\n",
       "      <th></th>\n",
       "      <th></th>\n",
       "    </tr>\n",
       "  </thead>\n",
       "  <tbody>\n",
       "    <tr>\n",
       "      <th>Saudi Arabia</th>\n",
       "      <td>20.8300</td>\n",
       "      <td>88.00</td>\n",
       "      <td>1.0330</td>\n",
       "      <td>0.7100</td>\n",
       "      <td>3.000</td>\n",
       "      <td>11.600</td>\n",
       "      <td>NaN</td>\n",
       "      <td>2.1300</td>\n",
       "      <td>8.999</td>\n",
       "      <td>22.640</td>\n",
       "      <td>23.6700</td>\n",
       "      <td>907.5</td>\n",
       "    </tr>\n",
       "    <tr>\n",
       "      <th>United Arab Emirates</th>\n",
       "      <td>3.3120</td>\n",
       "      <td>82.84</td>\n",
       "      <td>0.9500</td>\n",
       "      <td>0.0690</td>\n",
       "      <td>1.726</td>\n",
       "      <td>1.815</td>\n",
       "      <td>NaN</td>\n",
       "      <td>0.6170</td>\n",
       "      <td>15.430</td>\n",
       "      <td>2.800</td>\n",
       "      <td>3.9980</td>\n",
       "      <td>665.2</td>\n",
       "    </tr>\n",
       "    <tr>\n",
       "      <th>Kazakhstan</th>\n",
       "      <td>14.0000</td>\n",
       "      <td>66.23</td>\n",
       "      <td>0.8530</td>\n",
       "      <td>6.2630</td>\n",
       "      <td>29.630</td>\n",
       "      <td>6.448</td>\n",
       "      <td>NaN</td>\n",
       "      <td>0.8780</td>\n",
       "      <td>4.153</td>\n",
       "      <td>19.980</td>\n",
       "      <td>21.1400</td>\n",
       "      <td>1257.0</td>\n",
       "    </tr>\n",
       "    <tr>\n",
       "      <th>Algeria</th>\n",
       "      <td>4.9900</td>\n",
       "      <td>59.23</td>\n",
       "      <td>0.6150</td>\n",
       "      <td>0.4150</td>\n",
       "      <td>4.926</td>\n",
       "      <td>2.511</td>\n",
       "      <td>3.502</td>\n",
       "      <td>3.0200</td>\n",
       "      <td>35.850</td>\n",
       "      <td>7.810</td>\n",
       "      <td>8.4250</td>\n",
       "      <td>225.0</td>\n",
       "    </tr>\n",
       "    <tr>\n",
       "      <th>United States of America</th>\n",
       "      <td>175.1000</td>\n",
       "      <td>36.06</td>\n",
       "      <td>0.5800</td>\n",
       "      <td>248.4000</td>\n",
       "      <td>51.150</td>\n",
       "      <td>108.500</td>\n",
       "      <td>159.300</td>\n",
       "      <td>62.0900</td>\n",
       "      <td>12.790</td>\n",
       "      <td>418.700</td>\n",
       "      <td>485.6000</td>\n",
       "      <td>1543.0</td>\n",
       "    </tr>\n",
       "    <tr>\n",
       "      <th>Kuwait</th>\n",
       "      <td>0.4919</td>\n",
       "      <td>53.87</td>\n",
       "      <td>0.4202</td>\n",
       "      <td>0.0233</td>\n",
       "      <td>2.278</td>\n",
       "      <td>0.119</td>\n",
       "      <td>NaN</td>\n",
       "      <td>0.4483</td>\n",
       "      <td>43.860</td>\n",
       "      <td>0.415</td>\n",
       "      <td>0.9132</td>\n",
       "      <td>447.2</td>\n",
       "    </tr>\n",
       "    <tr>\n",
       "      <th>Egypt</th>\n",
       "      <td>67.0000</td>\n",
       "      <td>85.90</td>\n",
       "      <td>0.2000</td>\n",
       "      <td>2.0000</td>\n",
       "      <td>2.564</td>\n",
       "      <td>45.110</td>\n",
       "      <td>NaN</td>\n",
       "      <td>9.0000</td>\n",
       "      <td>11.540</td>\n",
       "      <td>73.800</td>\n",
       "      <td>78.0000</td>\n",
       "      <td>910.6</td>\n",
       "    </tr>\n",
       "    <tr>\n",
       "      <th>Iran (Islamic Republic of)</th>\n",
       "      <td>86.0000</td>\n",
       "      <td>92.18</td>\n",
       "      <td>0.2000</td>\n",
       "      <td>1.1000</td>\n",
       "      <td>1.179</td>\n",
       "      <td>49.190</td>\n",
       "      <td>NaN</td>\n",
       "      <td>6.2000</td>\n",
       "      <td>6.645</td>\n",
       "      <td>93.100</td>\n",
       "      <td>93.3000</td>\n",
       "      <td>1301.0</td>\n",
       "    </tr>\n",
       "    <tr>\n",
       "      <th>Qatar</th>\n",
       "      <td>0.2620</td>\n",
       "      <td>59.01</td>\n",
       "      <td>0.1800</td>\n",
       "      <td>0.0080</td>\n",
       "      <td>1.802</td>\n",
       "      <td>0.076</td>\n",
       "      <td>NaN</td>\n",
       "      <td>0.1740</td>\n",
       "      <td>39.190</td>\n",
       "      <td>0.217</td>\n",
       "      <td>0.4440</td>\n",
       "      <td>376.6</td>\n",
       "    </tr>\n",
       "    <tr>\n",
       "      <th>Australia</th>\n",
       "      <td>10.5900</td>\n",
       "      <td>60.97</td>\n",
       "      <td>0.1440</td>\n",
       "      <td>2.7680</td>\n",
       "      <td>15.940</td>\n",
       "      <td>3.892</td>\n",
       "      <td>8.408</td>\n",
       "      <td>4.0150</td>\n",
       "      <td>23.110</td>\n",
       "      <td>16.760</td>\n",
       "      <td>17.3700</td>\n",
       "      <td>724.7</td>\n",
       "    </tr>\n",
       "  </tbody>\n",
       "</table>\n",
       "</div>"
      ],
      "text/plain": [
       "                            agricultural  agricultural_pct  desalinated  \\\n",
       "country                                                                   \n",
       "Saudi Arabia                     20.8300             88.00       1.0330   \n",
       "United Arab Emirates              3.3120             82.84       0.9500   \n",
       "Kazakhstan                       14.0000             66.23       0.8530   \n",
       "Algeria                           4.9900             59.23       0.6150   \n",
       "United States of America        175.1000             36.06       0.5800   \n",
       "Kuwait                            0.4919             53.87       0.4202   \n",
       "Egypt                            67.0000             85.90       0.2000   \n",
       "Iran (Islamic Republic of)       86.0000             92.18       0.2000   \n",
       "Qatar                             0.2620             59.01       0.1800   \n",
       "Australia                        10.5900             60.97       0.1440   \n",
       "\n",
       "                            industrial  industrial_pct  irrigation_req  \\\n",
       "country                                                                  \n",
       "Saudi Arabia                    0.7100           3.000          11.600   \n",
       "United Arab Emirates            0.0690           1.726           1.815   \n",
       "Kazakhstan                      6.2630          29.630           6.448   \n",
       "Algeria                         0.4150           4.926           2.511   \n",
       "United States of America      248.4000          51.150         108.500   \n",
       "Kuwait                          0.0233           2.278           0.119   \n",
       "Egypt                           2.0000           2.564          45.110   \n",
       "Iran (Islamic Republic of)      1.1000           1.179          49.190   \n",
       "Qatar                           0.0080           1.802           0.076   \n",
       "Australia                       2.7680          15.940           3.892   \n",
       "\n",
       "                            irrigation  municipal  municipal_pct  total_fresh  \\\n",
       "country                                                                         \n",
       "Saudi Arabia                       NaN     2.1300          8.999       22.640   \n",
       "United Arab Emirates               NaN     0.6170         15.430        2.800   \n",
       "Kazakhstan                         NaN     0.8780          4.153       19.980   \n",
       "Algeria                          3.502     3.0200         35.850        7.810   \n",
       "United States of America       159.300    62.0900         12.790      418.700   \n",
       "Kuwait                             NaN     0.4483         43.860        0.415   \n",
       "Egypt                              NaN     9.0000         11.540       73.800   \n",
       "Iran (Islamic Republic of)         NaN     6.2000          6.645       93.100   \n",
       "Qatar                              NaN     0.1740         39.190        0.217   \n",
       "Australia                        8.408     4.0150         23.110       16.760   \n",
       "\n",
       "                            total_water  total_water_pc  \n",
       "country                                                  \n",
       "Saudi Arabia                    23.6700           907.5  \n",
       "United Arab Emirates             3.9980           665.2  \n",
       "Kazakhstan                      21.1400          1257.0  \n",
       "Algeria                          8.4250           225.0  \n",
       "United States of America       485.6000          1543.0  \n",
       "Kuwait                           0.9132           447.2  \n",
       "Egypt                           78.0000           910.6  \n",
       "Iran (Islamic Republic of)      93.3000          1301.0  \n",
       "Qatar                            0.4440           376.6  \n",
       "Australia                       17.3700           724.7  "
      ]
     },
     "execution_count": 83,
     "metadata": {},
     "output_type": "execute_result"
    }
   ],
   "source": [
    "# top desalination producers\n",
    "withdrawal.sort_values('desalinated', ascending=False).head(10)"
   ]
  },
  {
   "cell_type": "code",
   "execution_count": 84,
   "metadata": {
    "collapsed": true
   },
   "outputs": [],
   "source": [
    "withdrawal.sort_values('desalinated', ascending=False).head(10).to_csv('../data/clean/desalination.csv')"
   ]
  },
  {
   "cell_type": "code",
   "execution_count": 85,
   "metadata": {
    "collapsed": true
   },
   "outputs": [],
   "source": [
    "# top total withdrawal per capita by sector, top-10 countries per cap\n",
    "sector_use = withdrawal.sort_values('total_water_pc', ascending=False).head(10)"
   ]
  },
  {
   "cell_type": "code",
   "execution_count": 86,
   "metadata": {
    "collapsed": true
   },
   "outputs": [],
   "source": [
    "sector_use = sector_use.loc[:,['agricultural', 'industrial', 'municipal']]"
   ]
  },
  {
   "cell_type": "code",
   "execution_count": 87,
   "metadata": {},
   "outputs": [
    {
     "data": {
      "text/html": [
       "<div>\n",
       "<style>\n",
       "    .dataframe thead tr:only-child th {\n",
       "        text-align: right;\n",
       "    }\n",
       "\n",
       "    .dataframe thead th {\n",
       "        text-align: left;\n",
       "    }\n",
       "\n",
       "    .dataframe tbody tr th {\n",
       "        vertical-align: top;\n",
       "    }\n",
       "</style>\n",
       "<table border=\"1\" class=\"dataframe\">\n",
       "  <thead>\n",
       "    <tr style=\"text-align: right;\">\n",
       "      <th></th>\n",
       "      <th>agricultural</th>\n",
       "      <th>industrial</th>\n",
       "      <th>municipal</th>\n",
       "    </tr>\n",
       "    <tr>\n",
       "      <th>country</th>\n",
       "      <th></th>\n",
       "      <th></th>\n",
       "      <th></th>\n",
       "    </tr>\n",
       "  </thead>\n",
       "  <tbody>\n",
       "    <tr>\n",
       "      <th>Turkmenistan</th>\n",
       "      <td>26.360</td>\n",
       "      <td>0.8390</td>\n",
       "      <td>0.7550</td>\n",
       "    </tr>\n",
       "    <tr>\n",
       "      <th>Iraq</th>\n",
       "      <td>52.000</td>\n",
       "      <td>9.7000</td>\n",
       "      <td>4.3000</td>\n",
       "    </tr>\n",
       "    <tr>\n",
       "      <th>Chile</th>\n",
       "      <td>29.420</td>\n",
       "      <td>4.7440</td>\n",
       "      <td>1.2670</td>\n",
       "    </tr>\n",
       "    <tr>\n",
       "      <th>Uzbekistan</th>\n",
       "      <td>50.400</td>\n",
       "      <td>1.5000</td>\n",
       "      <td>4.1000</td>\n",
       "    </tr>\n",
       "    <tr>\n",
       "      <th>Guyana</th>\n",
       "      <td>1.363</td>\n",
       "      <td>0.0204</td>\n",
       "      <td>0.0613</td>\n",
       "    </tr>\n",
       "    <tr>\n",
       "      <th>Tajikistan</th>\n",
       "      <td>10.440</td>\n",
       "      <td>0.4078</td>\n",
       "      <td>0.6470</td>\n",
       "    </tr>\n",
       "    <tr>\n",
       "      <th>United States of America</th>\n",
       "      <td>175.100</td>\n",
       "      <td>248.4000</td>\n",
       "      <td>62.0900</td>\n",
       "    </tr>\n",
       "    <tr>\n",
       "      <th>Kyrgyzstan</th>\n",
       "      <td>7.100</td>\n",
       "      <td>0.3360</td>\n",
       "      <td>0.2240</td>\n",
       "    </tr>\n",
       "    <tr>\n",
       "      <th>Estonia</th>\n",
       "      <td>0.005</td>\n",
       "      <td>1.6550</td>\n",
       "      <td>0.0600</td>\n",
       "    </tr>\n",
       "    <tr>\n",
       "      <th>Iran (Islamic Republic of)</th>\n",
       "      <td>86.000</td>\n",
       "      <td>1.1000</td>\n",
       "      <td>6.2000</td>\n",
       "    </tr>\n",
       "  </tbody>\n",
       "</table>\n",
       "</div>"
      ],
      "text/plain": [
       "                            agricultural  industrial  municipal\n",
       "country                                                        \n",
       "Turkmenistan                      26.360      0.8390     0.7550\n",
       "Iraq                              52.000      9.7000     4.3000\n",
       "Chile                             29.420      4.7440     1.2670\n",
       "Uzbekistan                        50.400      1.5000     4.1000\n",
       "Guyana                             1.363      0.0204     0.0613\n",
       "Tajikistan                        10.440      0.4078     0.6470\n",
       "United States of America         175.100    248.4000    62.0900\n",
       "Kyrgyzstan                         7.100      0.3360     0.2240\n",
       "Estonia                            0.005      1.6550     0.0600\n",
       "Iran (Islamic Republic of)        86.000      1.1000     6.2000"
      ]
     },
     "execution_count": 87,
     "metadata": {},
     "output_type": "execute_result"
    }
   ],
   "source": [
    "sector_use"
   ]
  },
  {
   "cell_type": "code",
   "execution_count": 88,
   "metadata": {},
   "outputs": [
    {
     "data": {
      "text/plain": [
       "agricultural    2765.763000\n",
       "industrial       758.986402\n",
       "municipal        466.708300\n",
       "dtype: float64"
      ]
     },
     "execution_count": 88,
     "metadata": {},
     "output_type": "execute_result"
    }
   ],
   "source": [
    "# mean % by sector\n",
    "withdrawal.loc[:,['agricultural', 'industrial', 'municipal']].sum()"
   ]
  },
  {
   "cell_type": "code",
   "execution_count": 89,
   "metadata": {
    "collapsed": true
   },
   "outputs": [],
   "source": [
    "# freshwaster withdrawal and population"
   ]
  },
  {
   "cell_type": "code",
   "execution_count": 90,
   "metadata": {
    "collapsed": true
   },
   "outputs": [],
   "source": [
    "withdrawal_pop = withdrawal[['total_fresh']].join(econ['population'])"
   ]
  },
  {
   "cell_type": "code",
   "execution_count": 91,
   "metadata": {
    "collapsed": true
   },
   "outputs": [],
   "source": [
    "# calculate total freshwater withdrawal per capita\n",
    "withdrawal_pop['total_fresh_pc'] = withdrawal_pop['total_fresh'] / withdrawal_pop['population']"
   ]
  },
  {
   "cell_type": "code",
   "execution_count": 92,
   "metadata": {
    "collapsed": true
   },
   "outputs": [],
   "source": [
    "withdrawal_pop = withdrawal_pop.sort_values('total_fresh_pc', ascending=False).head(20)"
   ]
  },
  {
   "cell_type": "code",
   "execution_count": 93,
   "metadata": {},
   "outputs": [
    {
     "data": {
      "text/html": [
       "<div>\n",
       "<style>\n",
       "    .dataframe thead tr:only-child th {\n",
       "        text-align: right;\n",
       "    }\n",
       "\n",
       "    .dataframe thead th {\n",
       "        text-align: left;\n",
       "    }\n",
       "\n",
       "    .dataframe tbody tr th {\n",
       "        vertical-align: top;\n",
       "    }\n",
       "</style>\n",
       "<table border=\"1\" class=\"dataframe\">\n",
       "  <thead>\n",
       "    <tr style=\"text-align: right;\">\n",
       "      <th></th>\n",
       "      <th>total_fresh</th>\n",
       "      <th>population</th>\n",
       "      <th>total_fresh_pc</th>\n",
       "    </tr>\n",
       "    <tr>\n",
       "      <th>country</th>\n",
       "      <th></th>\n",
       "      <th></th>\n",
       "      <th></th>\n",
       "    </tr>\n",
       "  </thead>\n",
       "  <tbody>\n",
       "    <tr>\n",
       "      <th>Turkmenistan</th>\n",
       "      <td>27.8700</td>\n",
       "      <td>5374.0</td>\n",
       "      <td>0.005186</td>\n",
       "    </tr>\n",
       "    <tr>\n",
       "      <th>Chile</th>\n",
       "      <td>35.3600</td>\n",
       "      <td>17948.0</td>\n",
       "      <td>0.001970</td>\n",
       "    </tr>\n",
       "    <tr>\n",
       "      <th>Guyana</th>\n",
       "      <td>1.4450</td>\n",
       "      <td>767.1</td>\n",
       "      <td>0.001884</td>\n",
       "    </tr>\n",
       "    <tr>\n",
       "      <th>Iraq</th>\n",
       "      <td>65.9900</td>\n",
       "      <td>36423.0</td>\n",
       "      <td>0.001812</td>\n",
       "    </tr>\n",
       "    <tr>\n",
       "      <th>Uzbekistan</th>\n",
       "      <td>49.1600</td>\n",
       "      <td>29893.0</td>\n",
       "      <td>0.001645</td>\n",
       "    </tr>\n",
       "    <tr>\n",
       "      <th>Tajikistan</th>\n",
       "      <td>11.1900</td>\n",
       "      <td>8482.0</td>\n",
       "      <td>0.001319</td>\n",
       "    </tr>\n",
       "    <tr>\n",
       "      <th>Estonia</th>\n",
       "      <td>1.7200</td>\n",
       "      <td>1313.0</td>\n",
       "      <td>0.001310</td>\n",
       "    </tr>\n",
       "    <tr>\n",
       "      <th>United States of America</th>\n",
       "      <td>418.7000</td>\n",
       "      <td>321774.0</td>\n",
       "      <td>0.001301</td>\n",
       "    </tr>\n",
       "    <tr>\n",
       "      <th>Kyrgyzstan</th>\n",
       "      <td>7.7070</td>\n",
       "      <td>5940.0</td>\n",
       "      <td>0.001297</td>\n",
       "    </tr>\n",
       "    <tr>\n",
       "      <th>Azerbaijan</th>\n",
       "      <td>11.9700</td>\n",
       "      <td>9754.0</td>\n",
       "      <td>0.001227</td>\n",
       "    </tr>\n",
       "    <tr>\n",
       "      <th>Finland</th>\n",
       "      <td>6.5620</td>\n",
       "      <td>5503.0</td>\n",
       "      <td>0.001192</td>\n",
       "    </tr>\n",
       "    <tr>\n",
       "      <th>Iran (Islamic Republic of)</th>\n",
       "      <td>93.1000</td>\n",
       "      <td>79109.0</td>\n",
       "      <td>0.001177</td>\n",
       "    </tr>\n",
       "    <tr>\n",
       "      <th>New Zealand</th>\n",
       "      <td>5.2010</td>\n",
       "      <td>4529.0</td>\n",
       "      <td>0.001148</td>\n",
       "    </tr>\n",
       "    <tr>\n",
       "      <th>Suriname</th>\n",
       "      <td>0.6159</td>\n",
       "      <td>543.0</td>\n",
       "      <td>0.001134</td>\n",
       "    </tr>\n",
       "    <tr>\n",
       "      <th>Kazakhstan</th>\n",
       "      <td>19.9800</td>\n",
       "      <td>17625.0</td>\n",
       "      <td>0.001134</td>\n",
       "    </tr>\n",
       "    <tr>\n",
       "      <th>Armenia</th>\n",
       "      <td>3.2720</td>\n",
       "      <td>3018.0</td>\n",
       "      <td>0.001084</td>\n",
       "    </tr>\n",
       "    <tr>\n",
       "      <th>Canada</th>\n",
       "      <td>38.8000</td>\n",
       "      <td>35940.0</td>\n",
       "      <td>0.001080</td>\n",
       "    </tr>\n",
       "    <tr>\n",
       "      <th>Uruguay</th>\n",
       "      <td>3.6600</td>\n",
       "      <td>3432.0</td>\n",
       "      <td>0.001066</td>\n",
       "    </tr>\n",
       "    <tr>\n",
       "      <th>Timor-Leste</th>\n",
       "      <td>1.1720</td>\n",
       "      <td>1185.0</td>\n",
       "      <td>0.000989</td>\n",
       "    </tr>\n",
       "    <tr>\n",
       "      <th>Pakistan</th>\n",
       "      <td>183.5000</td>\n",
       "      <td>188925.0</td>\n",
       "      <td>0.000971</td>\n",
       "    </tr>\n",
       "  </tbody>\n",
       "</table>\n",
       "</div>"
      ],
      "text/plain": [
       "                            total_fresh  population  total_fresh_pc\n",
       "country                                                            \n",
       "Turkmenistan                    27.8700      5374.0        0.005186\n",
       "Chile                           35.3600     17948.0        0.001970\n",
       "Guyana                           1.4450       767.1        0.001884\n",
       "Iraq                            65.9900     36423.0        0.001812\n",
       "Uzbekistan                      49.1600     29893.0        0.001645\n",
       "Tajikistan                      11.1900      8482.0        0.001319\n",
       "Estonia                          1.7200      1313.0        0.001310\n",
       "United States of America       418.7000    321774.0        0.001301\n",
       "Kyrgyzstan                       7.7070      5940.0        0.001297\n",
       "Azerbaijan                      11.9700      9754.0        0.001227\n",
       "Finland                          6.5620      5503.0        0.001192\n",
       "Iran (Islamic Republic of)      93.1000     79109.0        0.001177\n",
       "New Zealand                      5.2010      4529.0        0.001148\n",
       "Suriname                         0.6159       543.0        0.001134\n",
       "Kazakhstan                      19.9800     17625.0        0.001134\n",
       "Armenia                          3.2720      3018.0        0.001084\n",
       "Canada                          38.8000     35940.0        0.001080\n",
       "Uruguay                          3.6600      3432.0        0.001066\n",
       "Timor-Leste                      1.1720      1185.0        0.000989\n",
       "Pakistan                       183.5000    188925.0        0.000971"
      ]
     },
     "execution_count": 93,
     "metadata": {},
     "output_type": "execute_result"
    }
   ],
   "source": [
    "withdrawal_pop"
   ]
  },
  {
   "cell_type": "code",
   "execution_count": 94,
   "metadata": {
    "collapsed": true
   },
   "outputs": [],
   "source": [
    "#####\n",
    "# water in and out flows by country\n",
    "# calculate totals and net amount\n",
    "#####"
   ]
  },
  {
   "cell_type": "code",
   "execution_count": 95,
   "metadata": {
    "collapsed": true
   },
   "outputs": [],
   "source": [
    "# pivot data\n",
    "flows = flows.pivot(index='country', columns='var_name', values='value')"
   ]
  },
  {
   "cell_type": "code",
   "execution_count": 96,
   "metadata": {
    "collapsed": true
   },
   "outputs": [],
   "source": [
    "flows.columns = ['groundwater_in', 'groundwater_out', 'surfacewater_in', 'surfacewater_out']"
   ]
  },
  {
   "cell_type": "code",
   "execution_count": 97,
   "metadata": {
    "collapsed": true
   },
   "outputs": [],
   "source": [
    "# calculate totals and net"
   ]
  },
  {
   "cell_type": "code",
   "execution_count": 98,
   "metadata": {
    "collapsed": true
   },
   "outputs": [],
   "source": [
    "flows['total_in'] = flows.loc[:,['groundwater_in', 'surfacewater_in']].sum(axis=1)"
   ]
  },
  {
   "cell_type": "code",
   "execution_count": 99,
   "metadata": {
    "collapsed": true
   },
   "outputs": [],
   "source": [
    "flows['total_out'] = flows.loc[:,['groundwater_out', 'surfacewater_out']].sum(axis=1)"
   ]
  },
  {
   "cell_type": "code",
   "execution_count": 100,
   "metadata": {},
   "outputs": [
    {
     "data": {
      "text/html": [
       "<div>\n",
       "<style>\n",
       "    .dataframe thead tr:only-child th {\n",
       "        text-align: right;\n",
       "    }\n",
       "\n",
       "    .dataframe thead th {\n",
       "        text-align: left;\n",
       "    }\n",
       "\n",
       "    .dataframe tbody tr th {\n",
       "        vertical-align: top;\n",
       "    }\n",
       "</style>\n",
       "<table border=\"1\" class=\"dataframe\">\n",
       "  <thead>\n",
       "    <tr style=\"text-align: right;\">\n",
       "      <th></th>\n",
       "      <th>groundwater_in</th>\n",
       "      <th>groundwater_out</th>\n",
       "      <th>surfacewater_in</th>\n",
       "      <th>surfacewater_out</th>\n",
       "      <th>total_in</th>\n",
       "      <th>total_out</th>\n",
       "    </tr>\n",
       "    <tr>\n",
       "      <th>country</th>\n",
       "      <th></th>\n",
       "      <th></th>\n",
       "      <th></th>\n",
       "      <th></th>\n",
       "      <th></th>\n",
       "      <th></th>\n",
       "    </tr>\n",
       "  </thead>\n",
       "  <tbody>\n",
       "    <tr>\n",
       "      <th>Afghanistan</th>\n",
       "      <td>0.00</td>\n",
       "      <td>NaN</td>\n",
       "      <td>10.00</td>\n",
       "      <td>42.22</td>\n",
       "      <td>10.00</td>\n",
       "      <td>42.22</td>\n",
       "    </tr>\n",
       "    <tr>\n",
       "      <th>Albania</th>\n",
       "      <td>0.00</td>\n",
       "      <td>0.0</td>\n",
       "      <td>3.30</td>\n",
       "      <td>11.50</td>\n",
       "      <td>3.30</td>\n",
       "      <td>11.50</td>\n",
       "    </tr>\n",
       "    <tr>\n",
       "      <th>Algeria</th>\n",
       "      <td>0.03</td>\n",
       "      <td>0.1</td>\n",
       "      <td>0.39</td>\n",
       "      <td>0.32</td>\n",
       "      <td>0.42</td>\n",
       "      <td>0.42</td>\n",
       "    </tr>\n",
       "    <tr>\n",
       "      <th>Angola</th>\n",
       "      <td>0.00</td>\n",
       "      <td>0.0</td>\n",
       "      <td>0.40</td>\n",
       "      <td>122.80</td>\n",
       "      <td>0.40</td>\n",
       "      <td>122.80</td>\n",
       "    </tr>\n",
       "    <tr>\n",
       "      <th>Antigua and Barbuda</th>\n",
       "      <td>0.00</td>\n",
       "      <td>0.0</td>\n",
       "      <td>0.00</td>\n",
       "      <td>0.00</td>\n",
       "      <td>0.00</td>\n",
       "      <td>0.00</td>\n",
       "    </tr>\n",
       "  </tbody>\n",
       "</table>\n",
       "</div>"
      ],
      "text/plain": [
       "                     groundwater_in  groundwater_out  surfacewater_in  \\\n",
       "country                                                                 \n",
       "Afghanistan                    0.00              NaN            10.00   \n",
       "Albania                        0.00              0.0             3.30   \n",
       "Algeria                        0.03              0.1             0.39   \n",
       "Angola                         0.00              0.0             0.40   \n",
       "Antigua and Barbuda            0.00              0.0             0.00   \n",
       "\n",
       "                     surfacewater_out  total_in  total_out  \n",
       "country                                                     \n",
       "Afghanistan                     42.22     10.00      42.22  \n",
       "Albania                         11.50      3.30      11.50  \n",
       "Algeria                          0.32      0.42       0.42  \n",
       "Angola                         122.80      0.40     122.80  \n",
       "Antigua and Barbuda              0.00      0.00       0.00  "
      ]
     },
     "execution_count": 100,
     "metadata": {},
     "output_type": "execute_result"
    }
   ],
   "source": [
    "flows.head()"
   ]
  },
  {
   "cell_type": "code",
   "execution_count": 101,
   "metadata": {
    "collapsed": true
   },
   "outputs": [],
   "source": [
    "flows.to_csv('../data/clean/flows.csv')"
   ]
  },
  {
   "cell_type": "code",
   "execution_count": 103,
   "metadata": {
    "collapsed": true
   },
   "outputs": [],
   "source": [
    "#####"
   ]
  },
  {
   "cell_type": "code",
   "execution_count": 111,
   "metadata": {},
   "outputs": [
    {
     "data": {
      "text/plain": [
       "renew_pc    3892.5\n",
       "dtype: float64"
      ]
     },
     "execution_count": 111,
     "metadata": {},
     "output_type": "execute_result"
    }
   ],
   "source": [
    "renew[['renew_pc']].median()"
   ]
  },
  {
   "cell_type": "code",
   "execution_count": null,
   "metadata": {
    "collapsed": true
   },
   "outputs": [],
   "source": []
  }
 ],
 "metadata": {
  "kernelspec": {
   "display_name": "Python 3",
   "language": "python",
   "name": "python3"
  },
  "language_info": {
   "codemirror_mode": {
    "name": "ipython",
    "version": 3
   },
   "file_extension": ".py",
   "mimetype": "text/x-python",
   "name": "python",
   "nbconvert_exporter": "python",
   "pygments_lexer": "ipython3",
   "version": "3.6.3"
  }
 },
 "nbformat": 4,
 "nbformat_minor": 2
}
