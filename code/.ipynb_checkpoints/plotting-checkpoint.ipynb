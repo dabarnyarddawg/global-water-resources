{
 "cells": [
  {
   "cell_type": "code",
   "execution_count": 18,
   "metadata": {
    "collapsed": true
   },
   "outputs": [],
   "source": [
    "import numpy as np\n",
    "import pandas as pd\n",
    "from bokeh.plotting import figure, show, output_file\n",
    "from bokeh.embed import components"
   ]
  },
  {
   "cell_type": "code",
   "execution_count": 2,
   "metadata": {
    "collapsed": true
   },
   "outputs": [],
   "source": [
    "#####\n",
    "# bar chart of bottom countries by total renewable water resourcs\n",
    "#####"
   ]
  },
  {
   "cell_type": "code",
   "execution_count": 6,
   "metadata": {},
   "outputs": [],
   "source": [
    "# import data\n",
    "df = pd.read_csv('../data/clean/renew_pc_bot10.csv', index_col='country')"
   ]
  },
  {
   "cell_type": "code",
   "execution_count": 8,
   "metadata": {
    "collapsed": true
   },
   "outputs": [],
   "source": [
    "#output_file('bottom10.html')"
   ]
  },
  {
   "cell_type": "code",
   "execution_count": 23,
   "metadata": {
    "collapsed": true
   },
   "outputs": [],
   "source": [
    "p = figure(plot_width=800, plot_height=600)\n",
    "p.vbar(x=range(len(df)), width=0.4, bottom=0, top=df['renew_pc'])\n",
    "script, div = components(p)"
   ]
  },
  {
   "cell_type": "code",
   "execution_count": 28,
   "metadata": {},
   "outputs": [
    {
     "name": "stdout",
     "output_type": "stream",
     "text": [
      "\n",
      "<script type=\"text/javascript\">\n",
      "    (function() {\n",
      "  var fn = function() {\n",
      "    Bokeh.safely(function() {\n",
      "      (function(root) {\n",
      "        function embed_document(root) {\n",
      "          var docs_json = {\"f9a36bb4-6103-4bf2-ab4c-4c7b384d7f32\":{\"roots\":{\"references\":[{\"attributes\":{},\"id\":\"9a4ddc4d-8774-46a1-bd59-dbb001eca6e7\",\"type\":\"LinearScale\"},{\"attributes\":{},\"id\":\"b4ceccf4-1833-403f-a175-68eb5826d817\",\"type\":\"BasicTickFormatter\"},{\"attributes\":{\"fill_color\":{\"value\":\"#1f77b4\"},\"line_color\":{\"value\":\"#1f77b4\"},\"top\":{\"field\":\"top\"},\"width\":{\"value\":0.4},\"x\":{\"field\":\"x\"}},\"id\":\"3dc6ed9a-69d7-46c1-b5d6-43e3935d1487\",\"type\":\"VBar\"},{\"attributes\":{\"callback\":null},\"id\":\"03c896fd-2416-43c7-8dfa-2f800af0e42d\",\"type\":\"DataRange1d\"},{\"attributes\":{\"source\":{\"id\":\"dfdb5810-09f0-4167-83e4-441df8fdf910\",\"type\":\"ColumnDataSource\"}},\"id\":\"2a785f76-bd08-4365-815f-0ba92abe3189\",\"type\":\"CDSView\"},{\"attributes\":{\"plot\":null,\"text\":\"\"},\"id\":\"ca3a2a76-d58a-4c07-990c-b1b14f773f9d\",\"type\":\"Title\"},{\"attributes\":{\"formatter\":{\"id\":\"b4ceccf4-1833-403f-a175-68eb5826d817\",\"type\":\"BasicTickFormatter\"},\"plot\":{\"id\":\"84641e3b-3d76-4483-9300-7fb352c30a13\",\"subtype\":\"Figure\",\"type\":\"Plot\"},\"ticker\":{\"id\":\"6715fe7d-c2d7-49ab-83a6-c2ff1b91fdc2\",\"type\":\"BasicTicker\"}},\"id\":\"b7443498-b2d9-4710-b7a5-11fa1624a8f9\",\"type\":\"LinearAxis\"},{\"attributes\":{\"callback\":null,\"column_names\":[\"x\",\"top\"],\"data\":{\"top\":{\"__ndarray__\":\"dJMYBFaOFEDhehSuR2EwQDMzMzMz8zlA9ihcj8IFU0BxPQrXo5BTQI/C9Shcn1RAj8L1KFwPVUBmZmZmZsZaQAAAAAAA4FtAZmZmZmYmXkA=\",\"dtype\":\"float64\",\"shape\":[10]},\"x\":[0,1,2,3,4,5,6,7,8,9]}},\"id\":\"dfdb5810-09f0-4167-83e4-441df8fdf910\",\"type\":\"ColumnDataSource\"},{\"attributes\":{\"data_source\":{\"id\":\"dfdb5810-09f0-4167-83e4-441df8fdf910\",\"type\":\"ColumnDataSource\"},\"glyph\":{\"id\":\"3dc6ed9a-69d7-46c1-b5d6-43e3935d1487\",\"type\":\"VBar\"},\"hover_glyph\":null,\"muted_glyph\":null,\"nonselection_glyph\":{\"id\":\"0c8b1443-6c57-44f1-9375-a9a5fc75ce4f\",\"type\":\"VBar\"},\"selection_glyph\":null,\"view\":{\"id\":\"2a785f76-bd08-4365-815f-0ba92abe3189\",\"type\":\"CDSView\"}},\"id\":\"e9e2e35a-7a7f-48e6-9e99-a02e2637c036\",\"type\":\"GlyphRenderer\"},{\"attributes\":{},\"id\":\"4f5ada1e-010d-46f4-b4b4-b0ce75735b4e\",\"type\":\"ResetTool\"},{\"attributes\":{},\"id\":\"f664edfd-a9b0-40ec-bf15-dd5d87c4d88d\",\"type\":\"LinearScale\"},{\"attributes\":{\"fill_alpha\":{\"value\":0.1},\"fill_color\":{\"value\":\"#1f77b4\"},\"line_alpha\":{\"value\":0.1},\"line_color\":{\"value\":\"#1f77b4\"},\"top\":{\"field\":\"top\"},\"width\":{\"value\":0.4},\"x\":{\"field\":\"x\"}},\"id\":\"0c8b1443-6c57-44f1-9375-a9a5fc75ce4f\",\"type\":\"VBar\"},{\"attributes\":{\"overlay\":{\"id\":\"c73dce68-1e05-46bc-89cb-38d48efc00c2\",\"type\":\"BoxAnnotation\"}},\"id\":\"8915bd59-6a6f-4aad-adea-b5c1f2cd2468\",\"type\":\"BoxZoomTool\"},{\"attributes\":{},\"id\":\"70482e41-a721-417c-aea1-f4a189c6a513\",\"type\":\"BasicTickFormatter\"},{\"attributes\":{\"formatter\":{\"id\":\"70482e41-a721-417c-aea1-f4a189c6a513\",\"type\":\"BasicTickFormatter\"},\"plot\":{\"id\":\"84641e3b-3d76-4483-9300-7fb352c30a13\",\"subtype\":\"Figure\",\"type\":\"Plot\"},\"ticker\":{\"id\":\"cf522f2c-04a7-4703-b8ec-bd8be5fbf9a6\",\"type\":\"BasicTicker\"}},\"id\":\"9e535535-6b35-43a8-b20d-dae074023d86\",\"type\":\"LinearAxis\"},{\"attributes\":{},\"id\":\"5efc7cfa-e60f-409b-b593-85fb3f46f659\",\"type\":\"SaveTool\"},{\"attributes\":{\"bottom_units\":\"screen\",\"fill_alpha\":{\"value\":0.5},\"fill_color\":{\"value\":\"lightgrey\"},\"left_units\":\"screen\",\"level\":\"overlay\",\"line_alpha\":{\"value\":1.0},\"line_color\":{\"value\":\"black\"},\"line_dash\":[4,4],\"line_width\":{\"value\":2},\"plot\":null,\"render_mode\":\"css\",\"right_units\":\"screen\",\"top_units\":\"screen\"},\"id\":\"c73dce68-1e05-46bc-89cb-38d48efc00c2\",\"type\":\"BoxAnnotation\"},{\"attributes\":{},\"id\":\"cf522f2c-04a7-4703-b8ec-bd8be5fbf9a6\",\"type\":\"BasicTicker\"},{\"attributes\":{},\"id\":\"6715fe7d-c2d7-49ab-83a6-c2ff1b91fdc2\",\"type\":\"BasicTicker\"},{\"attributes\":{},\"id\":\"f3090026-d4ee-44cf-a6bc-73ecd5a52864\",\"type\":\"HelpTool\"},{\"attributes\":{\"active_drag\":\"auto\",\"active_inspect\":\"auto\",\"active_scroll\":\"auto\",\"active_tap\":\"auto\",\"tools\":[{\"id\":\"d5eefb9c-3004-4317-a493-e85c5cd98d29\",\"type\":\"PanTool\"},{\"id\":\"75da3fbf-c4af-485f-a452-9db38a4f1aeb\",\"type\":\"WheelZoomTool\"},{\"id\":\"8915bd59-6a6f-4aad-adea-b5c1f2cd2468\",\"type\":\"BoxZoomTool\"},{\"id\":\"5efc7cfa-e60f-409b-b593-85fb3f46f659\",\"type\":\"SaveTool\"},{\"id\":\"4f5ada1e-010d-46f4-b4b4-b0ce75735b4e\",\"type\":\"ResetTool\"},{\"id\":\"f3090026-d4ee-44cf-a6bc-73ecd5a52864\",\"type\":\"HelpTool\"}]},\"id\":\"6bb3aecb-9352-4778-b7d3-fb7e3a33451d\",\"type\":\"Toolbar\"},{\"attributes\":{\"callback\":null},\"id\":\"cc9a781a-c361-4835-8dbe-15413ae5694a\",\"type\":\"DataRange1d\"},{\"attributes\":{},\"id\":\"75da3fbf-c4af-485f-a452-9db38a4f1aeb\",\"type\":\"WheelZoomTool\"},{\"attributes\":{\"dimension\":1,\"plot\":{\"id\":\"84641e3b-3d76-4483-9300-7fb352c30a13\",\"subtype\":\"Figure\",\"type\":\"Plot\"},\"ticker\":{\"id\":\"cf522f2c-04a7-4703-b8ec-bd8be5fbf9a6\",\"type\":\"BasicTicker\"}},\"id\":\"2cce93cf-87ca-4eb6-b251-10b960515f23\",\"type\":\"Grid\"},{\"attributes\":{},\"id\":\"d5eefb9c-3004-4317-a493-e85c5cd98d29\",\"type\":\"PanTool\"},{\"attributes\":{\"below\":[{\"id\":\"b7443498-b2d9-4710-b7a5-11fa1624a8f9\",\"type\":\"LinearAxis\"}],\"left\":[{\"id\":\"9e535535-6b35-43a8-b20d-dae074023d86\",\"type\":\"LinearAxis\"}],\"plot_width\":800,\"renderers\":[{\"id\":\"b7443498-b2d9-4710-b7a5-11fa1624a8f9\",\"type\":\"LinearAxis\"},{\"id\":\"b18af3dc-494d-4ebe-b5ab-e03c8beac400\",\"type\":\"Grid\"},{\"id\":\"9e535535-6b35-43a8-b20d-dae074023d86\",\"type\":\"LinearAxis\"},{\"id\":\"2cce93cf-87ca-4eb6-b251-10b960515f23\",\"type\":\"Grid\"},{\"id\":\"c73dce68-1e05-46bc-89cb-38d48efc00c2\",\"type\":\"BoxAnnotation\"},{\"id\":\"e9e2e35a-7a7f-48e6-9e99-a02e2637c036\",\"type\":\"GlyphRenderer\"}],\"title\":{\"id\":\"ca3a2a76-d58a-4c07-990c-b1b14f773f9d\",\"type\":\"Title\"},\"toolbar\":{\"id\":\"6bb3aecb-9352-4778-b7d3-fb7e3a33451d\",\"type\":\"Toolbar\"},\"x_range\":{\"id\":\"cc9a781a-c361-4835-8dbe-15413ae5694a\",\"type\":\"DataRange1d\"},\"x_scale\":{\"id\":\"9a4ddc4d-8774-46a1-bd59-dbb001eca6e7\",\"type\":\"LinearScale\"},\"y_range\":{\"id\":\"03c896fd-2416-43c7-8dfa-2f800af0e42d\",\"type\":\"DataRange1d\"},\"y_scale\":{\"id\":\"f664edfd-a9b0-40ec-bf15-dd5d87c4d88d\",\"type\":\"LinearScale\"}},\"id\":\"84641e3b-3d76-4483-9300-7fb352c30a13\",\"subtype\":\"Figure\",\"type\":\"Plot\"},{\"attributes\":{\"plot\":{\"id\":\"84641e3b-3d76-4483-9300-7fb352c30a13\",\"subtype\":\"Figure\",\"type\":\"Plot\"},\"ticker\":{\"id\":\"6715fe7d-c2d7-49ab-83a6-c2ff1b91fdc2\",\"type\":\"BasicTicker\"}},\"id\":\"b18af3dc-494d-4ebe-b5ab-e03c8beac400\",\"type\":\"Grid\"}],\"root_ids\":[\"84641e3b-3d76-4483-9300-7fb352c30a13\"]},\"title\":\"Bokeh Application\",\"version\":\"0.12.10\"}};\n",
      "          var render_items = [{\"docid\":\"f9a36bb4-6103-4bf2-ab4c-4c7b384d7f32\",\"elementid\":\"1eb0d4f3-cc13-4136-bdea-743518e9120c\",\"modelid\":\"84641e3b-3d76-4483-9300-7fb352c30a13\"}];\n",
      "      \n",
      "          root.Bokeh.embed.embed_items(docs_json, render_items);\n",
      "        }\n",
      "      \n",
      "        if (root.Bokeh !== undefined) {\n",
      "          embed_document(root);\n",
      "        } else {\n",
      "          var attempts = 0;\n",
      "          var timer = setInterval(function(root) {\n",
      "            if (root.Bokeh !== undefined) {\n",
      "              embed_document(root);\n",
      "              clearInterval(timer);\n",
      "            }\n",
      "            attempts++;\n",
      "            if (attempts > 100) {\n",
      "              console.log(\"Bokeh: ERROR: Unable to embed document because BokehJS library is missing\")\n",
      "              clearInterval(timer);\n",
      "            }\n",
      "          }, 10, root)\n",
      "        }\n",
      "      })(window);\n",
      "    });\n",
      "  };\n",
      "  if (document.readyState != \"loading\") fn();\n",
      "  else document.addEventListener(\"DOMContentLoaded\", fn);\n",
      "})();\n",
      "\n",
      "</script>\n"
     ]
    }
   ],
   "source": [
    "print(script)"
   ]
  },
  {
   "cell_type": "code",
   "execution_count": 25,
   "metadata": {},
   "outputs": [
    {
     "name": "stdout",
     "output_type": "stream",
     "text": [
      "\n",
      "<div class=\"bk-root\">\n",
      "    <div class=\"bk-plotdiv\" id=\"1eb0d4f3-cc13-4136-bdea-743518e9120c\"></div>\n",
      "</div>\n"
     ]
    }
   ],
   "source": [
    "print(div)"
   ]
  },
  {
   "cell_type": "code",
   "execution_count": null,
   "metadata": {
    "collapsed": true
   },
   "outputs": [],
   "source": []
  }
 ],
 "metadata": {
  "kernelspec": {
   "display_name": "Python 3",
   "language": "python",
   "name": "python3"
  },
  "language_info": {
   "codemirror_mode": {
    "name": "ipython",
    "version": 3
   },
   "file_extension": ".py",
   "mimetype": "text/x-python",
   "name": "python",
   "nbconvert_exporter": "python",
   "pygments_lexer": "ipython3",
   "version": "3.6.3"
  }
 },
 "nbformat": 4,
 "nbformat_minor": 2
}
